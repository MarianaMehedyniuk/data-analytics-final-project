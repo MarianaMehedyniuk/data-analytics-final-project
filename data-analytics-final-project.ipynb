{
 "cells": [
  {
   "cell_type": "markdown",
   "metadata": {},
   "source": [
    "# Retail: Assess Sales Outlets' Performance\n",
    "\n",
    "Assess the performance of the chain's sales outlets.\n",
    "\n",
    "- [x] Carry out exploratory data analysis\n",
    "- [x] Assess the performance of the sales outlets\n",
    "- [x] Test statistical hypotheses\n",
    "\n",
    "**Presentation link** https://drive.google.com/file/d/1Ad4tkhnjDzM0yts9EpvR1xZQOlf8XRNH/view?usp=sharing"
   ]
  },
  {
   "cell_type": "markdown",
   "metadata": {},
   "source": [
    "## Task Decomposition\n",
    "\n",
    "### The problem\n",
    "\n",
    "We have data on purchases made at the building-material retailer Home World. All of its customers have membership cards. Moreover, they can become members of the store's loyalty program for $20 per month. The program includes discounts, information on special offers, and gifts.\n",
    "\n",
    "**The goal of the analysis** will be to assess how different sales outlets perform. This will allow us to understand more about customers behavior and if it is dependent on factors such as: loyalty program membership, buying frequency, sales outlet location, seasonality.\n",
    "\n",
    "### On EDA\n",
    "\n",
    "Before conducting the analysis, it is necessary to preprocess the data. The goal of it is to make sure our dataset is as accurate as possible. \n",
    "\n",
    "Here is what would be done:\n",
    "\n",
    "1. Checking data for duplicates and dropping them.\n",
    "2. Checking data for missing values. Depending on the amount of missing values, they will either be dropped or replaced.\n",
    "3. Making sure that all the data is converted to appropriate formats.\n",
    "\n",
    "### Metrics, Relationships, Outlet Characteristics\n",
    "\n",
    "We will calculate the **amount of customers who have opted in the loyalty program**. \n",
    "\n",
    "It would also be interesting to see **the amount of purchases per month** and **the average amount of items purchased per customer (loyal and non-loyal)**, as well as **calculating the average amount of items purchased per store**.\n",
    "\n",
    "### Hypotheses\n",
    "\n",
    "There are several hypothesis we can test. We will focus on the following:\n",
    "\n",
    "1. Loyalty program members tend to buy more often.\n",
    "2. Shop with bigger amount of loyal customers has more purchases per month."
   ]
  },
  {
   "cell_type": "markdown",
   "metadata": {},
   "source": [
    "## Importing Relevant Libraries and Datasets"
   ]
  },
  {
   "cell_type": "code",
   "execution_count": 1,
   "metadata": {},
   "outputs": [],
   "source": [
    "#importing the libraries\n",
    "\n",
    "import pandas as pd\n",
    "pd.set_option('max_colwidth', 400)\n",
    "from scipy import stats as st\n",
    "import numpy as np\n",
    "import seaborn as sns\n",
    "from matplotlib import pyplot as plt\n",
    "from plotly import graph_objects as go\n",
    "from statistics import mean\n",
    "from statsmodels.stats.weightstats import ztest\n",
    "from statsmodels.stats import weightstats as stests\n",
    "import time\n",
    "import math as mth\n",
    "import datetime as dt\n",
    "import warnings\n",
    "warnings.filterwarnings('ignore')"
   ]
  },
  {
   "cell_type": "code",
   "execution_count": 2,
   "metadata": {},
   "outputs": [],
   "source": [
    "retail_us = pd.read_csv('/datasets/retail_dataset_us.csv')\n",
    "product_codes = pd.read_csv('/datasets/product_codes_us.csv', sep=\";\")"
   ]
  },
  {
   "cell_type": "markdown",
   "metadata": {},
   "source": [
    "## EDA\n",
    "\n",
    "Here, we will answer the following questions:\n",
    "\n",
    "- Are there data types that need to be converted?\n",
    "- Are there missing values and how to approach them?\n",
    "- Are there any duplicates?\n",
    "- Is there a need to rename some of the columns?"
   ]
  },
  {
   "cell_type": "markdown",
   "metadata": {},
   "source": [
    "### retail_us dataframe"
   ]
  },
  {
   "cell_type": "code",
   "execution_count": 3,
   "metadata": {},
   "outputs": [
    {
     "name": "stdout",
     "output_type": "stream",
     "text": [
      "<class 'pandas.core.frame.DataFrame'>\n",
      "RangeIndex: 105335 entries, 0 to 105334\n",
      "Data columns (total 7 columns):\n",
      "purchaseid         105335 non-null object\n",
      "item_ID            105335 non-null object\n",
      "Quantity           105335 non-null int64\n",
      "purchasedate       105335 non-null object\n",
      "CustomerID         69125 non-null float64\n",
      "loyalty_program    105335 non-null int64\n",
      "ShopID             105335 non-null object\n",
      "dtypes: float64(1), int64(2), object(4)\n",
      "memory usage: 5.6+ MB\n",
      "None\n",
      "\n",
      "retail_us, head:\n"
     ]
    },
    {
     "data": {
      "text/html": [
       "<div>\n",
       "<style scoped>\n",
       "    .dataframe tbody tr th:only-of-type {\n",
       "        vertical-align: middle;\n",
       "    }\n",
       "\n",
       "    .dataframe tbody tr th {\n",
       "        vertical-align: top;\n",
       "    }\n",
       "\n",
       "    .dataframe thead th {\n",
       "        text-align: right;\n",
       "    }\n",
       "</style>\n",
       "<table border=\"1\" class=\"dataframe\">\n",
       "  <thead>\n",
       "    <tr style=\"text-align: right;\">\n",
       "      <th></th>\n",
       "      <th>purchaseid</th>\n",
       "      <th>item_ID</th>\n",
       "      <th>Quantity</th>\n",
       "      <th>purchasedate</th>\n",
       "      <th>CustomerID</th>\n",
       "      <th>loyalty_program</th>\n",
       "      <th>ShopID</th>\n",
       "    </tr>\n",
       "  </thead>\n",
       "  <tbody>\n",
       "    <tr>\n",
       "      <td>0</td>\n",
       "      <td>538280</td>\n",
       "      <td>21873</td>\n",
       "      <td>11</td>\n",
       "      <td>2016-12-10 12:50:00</td>\n",
       "      <td>18427.0</td>\n",
       "      <td>0</td>\n",
       "      <td>Shop 3</td>\n",
       "    </tr>\n",
       "    <tr>\n",
       "      <td>1</td>\n",
       "      <td>538862</td>\n",
       "      <td>22195</td>\n",
       "      <td>0</td>\n",
       "      <td>2016-12-14 14:11:00</td>\n",
       "      <td>22389.0</td>\n",
       "      <td>1</td>\n",
       "      <td>Shop 2</td>\n",
       "    </tr>\n",
       "    <tr>\n",
       "      <td>2</td>\n",
       "      <td>538855</td>\n",
       "      <td>21239</td>\n",
       "      <td>7</td>\n",
       "      <td>2016-12-14 13:50:00</td>\n",
       "      <td>22182.0</td>\n",
       "      <td>1</td>\n",
       "      <td>Shop 3</td>\n",
       "    </tr>\n",
       "    <tr>\n",
       "      <td>3</td>\n",
       "      <td>543543</td>\n",
       "      <td>22271</td>\n",
       "      <td>0</td>\n",
       "      <td>2017-02-09 15:33:00</td>\n",
       "      <td>23522.0</td>\n",
       "      <td>1</td>\n",
       "      <td>Shop 28</td>\n",
       "    </tr>\n",
       "    <tr>\n",
       "      <td>4</td>\n",
       "      <td>543812</td>\n",
       "      <td>79321</td>\n",
       "      <td>0</td>\n",
       "      <td>2017-02-13 14:40:00</td>\n",
       "      <td>23151.0</td>\n",
       "      <td>1</td>\n",
       "      <td>Shop 28</td>\n",
       "    </tr>\n",
       "  </tbody>\n",
       "</table>\n",
       "</div>"
      ],
      "text/plain": [
       "  purchaseid item_ID  Quantity         purchasedate  CustomerID  \\\n",
       "0     538280   21873        11  2016-12-10 12:50:00     18427.0   \n",
       "1     538862   22195         0  2016-12-14 14:11:00     22389.0   \n",
       "2     538855   21239         7  2016-12-14 13:50:00     22182.0   \n",
       "3     543543   22271         0  2017-02-09 15:33:00     23522.0   \n",
       "4     543812   79321         0  2017-02-13 14:40:00     23151.0   \n",
       "\n",
       "   loyalty_program   ShopID  \n",
       "0                0   Shop 3  \n",
       "1                1   Shop 2  \n",
       "2                1   Shop 3  \n",
       "3                1  Shop 28  \n",
       "4                1  Shop 28  "
      ]
     },
     "metadata": {},
     "output_type": "display_data"
    },
    {
     "name": "stdout",
     "output_type": "stream",
     "text": [
      "\n",
      "retail_us, tail:\n"
     ]
    },
    {
     "data": {
      "text/html": [
       "<div>\n",
       "<style scoped>\n",
       "    .dataframe tbody tr th:only-of-type {\n",
       "        vertical-align: middle;\n",
       "    }\n",
       "\n",
       "    .dataframe tbody tr th {\n",
       "        vertical-align: top;\n",
       "    }\n",
       "\n",
       "    .dataframe thead th {\n",
       "        text-align: right;\n",
       "    }\n",
       "</style>\n",
       "<table border=\"1\" class=\"dataframe\">\n",
       "  <thead>\n",
       "    <tr style=\"text-align: right;\">\n",
       "      <th></th>\n",
       "      <th>purchaseid</th>\n",
       "      <th>item_ID</th>\n",
       "      <th>Quantity</th>\n",
       "      <th>purchasedate</th>\n",
       "      <th>CustomerID</th>\n",
       "      <th>loyalty_program</th>\n",
       "      <th>ShopID</th>\n",
       "    </tr>\n",
       "  </thead>\n",
       "  <tbody>\n",
       "    <tr>\n",
       "      <td>105330</td>\n",
       "      <td>538566</td>\n",
       "      <td>21826</td>\n",
       "      <td>1</td>\n",
       "      <td>2016-12-13 11:21:00</td>\n",
       "      <td>NaN</td>\n",
       "      <td>0</td>\n",
       "      <td>Shop 0</td>\n",
       "    </tr>\n",
       "    <tr>\n",
       "      <td>105331</td>\n",
       "      <td>540247</td>\n",
       "      <td>21742</td>\n",
       "      <td>0</td>\n",
       "      <td>2017-01-05 15:56:00</td>\n",
       "      <td>21143.0</td>\n",
       "      <td>0</td>\n",
       "      <td>Shop 24</td>\n",
       "    </tr>\n",
       "    <tr>\n",
       "      <td>105332</td>\n",
       "      <td>538068</td>\n",
       "      <td>85048</td>\n",
       "      <td>1</td>\n",
       "      <td>2016-12-09 14:05:00</td>\n",
       "      <td>23657.0</td>\n",
       "      <td>1</td>\n",
       "      <td>Shop 16</td>\n",
       "    </tr>\n",
       "    <tr>\n",
       "      <td>105333</td>\n",
       "      <td>538207</td>\n",
       "      <td>22818</td>\n",
       "      <td>11</td>\n",
       "      <td>2016-12-10 11:33:00</td>\n",
       "      <td>18427.0</td>\n",
       "      <td>0</td>\n",
       "      <td>Shop 29</td>\n",
       "    </tr>\n",
       "    <tr>\n",
       "      <td>105334</td>\n",
       "      <td>543977</td>\n",
       "      <td>22384</td>\n",
       "      <td>9</td>\n",
       "      <td>2017-02-14 15:35:00</td>\n",
       "      <td>21294.0</td>\n",
       "      <td>0</td>\n",
       "      <td>Shop 19</td>\n",
       "    </tr>\n",
       "  </tbody>\n",
       "</table>\n",
       "</div>"
      ],
      "text/plain": [
       "       purchaseid item_ID  Quantity         purchasedate  CustomerID  \\\n",
       "105330     538566   21826         1  2016-12-13 11:21:00         NaN   \n",
       "105331     540247   21742         0  2017-01-05 15:56:00     21143.0   \n",
       "105332     538068   85048         1  2016-12-09 14:05:00     23657.0   \n",
       "105333     538207   22818        11  2016-12-10 11:33:00     18427.0   \n",
       "105334     543977   22384         9  2017-02-14 15:35:00     21294.0   \n",
       "\n",
       "        loyalty_program   ShopID  \n",
       "105330                0   Shop 0  \n",
       "105331                0  Shop 24  \n",
       "105332                1  Shop 16  \n",
       "105333                0  Shop 29  \n",
       "105334                0  Shop 19  "
      ]
     },
     "metadata": {},
     "output_type": "display_data"
    },
    {
     "name": "stdout",
     "output_type": "stream",
     "text": [
      "\n",
      "retail_us, sample:\n"
     ]
    },
    {
     "data": {
      "text/html": [
       "<div>\n",
       "<style scoped>\n",
       "    .dataframe tbody tr th:only-of-type {\n",
       "        vertical-align: middle;\n",
       "    }\n",
       "\n",
       "    .dataframe tbody tr th {\n",
       "        vertical-align: top;\n",
       "    }\n",
       "\n",
       "    .dataframe thead th {\n",
       "        text-align: right;\n",
       "    }\n",
       "</style>\n",
       "<table border=\"1\" class=\"dataframe\">\n",
       "  <thead>\n",
       "    <tr style=\"text-align: right;\">\n",
       "      <th></th>\n",
       "      <th>purchaseid</th>\n",
       "      <th>item_ID</th>\n",
       "      <th>Quantity</th>\n",
       "      <th>purchasedate</th>\n",
       "      <th>CustomerID</th>\n",
       "      <th>loyalty_program</th>\n",
       "      <th>ShopID</th>\n",
       "    </tr>\n",
       "  </thead>\n",
       "  <tbody>\n",
       "    <tr>\n",
       "      <td>70041</td>\n",
       "      <td>544450</td>\n",
       "      <td>22525</td>\n",
       "      <td>19</td>\n",
       "      <td>2017-02-20 12:23:00</td>\n",
       "      <td>23490.0</td>\n",
       "      <td>1</td>\n",
       "      <td>Shop 25</td>\n",
       "    </tr>\n",
       "    <tr>\n",
       "      <td>45384</td>\n",
       "      <td>545053</td>\n",
       "      <td>85016</td>\n",
       "      <td>1</td>\n",
       "      <td>2017-02-27 12:41:00</td>\n",
       "      <td>23195.0</td>\n",
       "      <td>1</td>\n",
       "      <td>Shop 16</td>\n",
       "    </tr>\n",
       "    <tr>\n",
       "      <td>60331</td>\n",
       "      <td>537855</td>\n",
       "      <td>22224</td>\n",
       "      <td>1</td>\n",
       "      <td>2016-12-08 15:59:00</td>\n",
       "      <td>21675.0</td>\n",
       "      <td>0</td>\n",
       "      <td>Shop 15</td>\n",
       "    </tr>\n",
       "    <tr>\n",
       "      <td>102514</td>\n",
       "      <td>536832</td>\n",
       "      <td>21925</td>\n",
       "      <td>11</td>\n",
       "      <td>2016-12-02 17:41:00</td>\n",
       "      <td>22313.0</td>\n",
       "      <td>1</td>\n",
       "      <td>Shop 29</td>\n",
       "    </tr>\n",
       "    <tr>\n",
       "      <td>28454</td>\n",
       "      <td>544833</td>\n",
       "      <td>21735</td>\n",
       "      <td>1</td>\n",
       "      <td>2017-02-24 10:10:00</td>\n",
       "      <td>21653.0</td>\n",
       "      <td>0</td>\n",
       "      <td>Shop 12</td>\n",
       "    </tr>\n",
       "  </tbody>\n",
       "</table>\n",
       "</div>"
      ],
      "text/plain": [
       "       purchaseid item_ID  Quantity         purchasedate  CustomerID  \\\n",
       "70041      544450   22525        19  2017-02-20 12:23:00     23490.0   \n",
       "45384      545053   85016         1  2017-02-27 12:41:00     23195.0   \n",
       "60331      537855   22224         1  2016-12-08 15:59:00     21675.0   \n",
       "102514     536832   21925        11  2016-12-02 17:41:00     22313.0   \n",
       "28454      544833   21735         1  2017-02-24 10:10:00     21653.0   \n",
       "\n",
       "        loyalty_program   ShopID  \n",
       "70041                 1  Shop 25  \n",
       "45384                 1  Shop 16  \n",
       "60331                 0  Shop 15  \n",
       "102514                1  Shop 29  \n",
       "28454                 0  Shop 12  "
      ]
     },
     "execution_count": 3,
     "metadata": {},
     "output_type": "execute_result"
    }
   ],
   "source": [
    "#exploring the retail_us dataframe\n",
    "\n",
    "print(retail_us.info())\n",
    "print()\n",
    "print(\"retail_us, head:\")\n",
    "display(retail_us.head())\n",
    "print()\n",
    "print(\"retail_us, tail:\")\n",
    "display(retail_us.tail())\n",
    "print()\n",
    "print(\"retail_us, sample:\")\n",
    "retail_us.sample(5)"
   ]
  },
  {
   "cell_type": "markdown",
   "metadata": {},
   "source": [
    "##### Conclusion\n",
    "\n",
    "After looking at the dataframe, we can see that the following can be done:\n",
    "\n",
    "- [x] renaming the columns\n",
    "- [x] converting the data types: both for memory optimization and the convenience of further analysis\n",
    "\n",
    "Moreover, we see some missing values in the dataset. This will be explored later on."
   ]
  },
  {
   "cell_type": "code",
   "execution_count": 4,
   "metadata": {},
   "outputs": [],
   "source": [
    "#renaming the columns\n",
    "\n",
    "retail_us.columns = ['purchase_id', 'item_id', \"quantity\", \"purchase_date\", \"customer_id\", \"loyalty_program\", \"shop_id\"]"
   ]
  },
  {
   "cell_type": "code",
   "execution_count": 5,
   "metadata": {},
   "outputs": [],
   "source": [
    "#converting the data types\n",
    "\n",
    "retail_us[\"customer_id\"] = retail_us[\"customer_id\"].apply(pd.to_numeric)\n",
    "retail_us[['purchase_id', 'item_id', 'shop_id']] = retail_us[['purchase_id', 'item_id', 'shop_id']].apply(lambda x: x. astype('category'))\n",
    "retail_us['purchase_date'] = pd.to_datetime(retail_us['purchase_date'])\n",
    "\n",
    "#we will also add a column with month of a purchase for further analysis\n",
    "\n",
    "retail_us['purchase_month'] = retail_us['purchase_date'].astype('datetime64[M]')"
   ]
  },
  {
   "cell_type": "markdown",
   "metadata": {},
   "source": [
    "#### Exploring the missing values"
   ]
  },
  {
   "cell_type": "code",
   "execution_count": 6,
   "metadata": {},
   "outputs": [
    {
     "data": {
      "text/plain": [
       "purchase_id         0.000000\n",
       "item_id             0.000000\n",
       "quantity            0.000000\n",
       "purchase_date       0.000000\n",
       "customer_id        34.376038\n",
       "loyalty_program     0.000000\n",
       "shop_id             0.000000\n",
       "purchase_month      0.000000\n",
       "dtype: float64"
      ]
     },
     "execution_count": 6,
     "metadata": {},
     "output_type": "execute_result"
    }
   ],
   "source": [
    "#looking for the missing values\n",
    "\n",
    "retail_us.isnull().sum()*100/len(retail_us)"
   ]
  },
  {
   "cell_type": "markdown",
   "metadata": {},
   "source": [
    "##### Conclusion\n",
    "\n",
    "We see that the **customer_id** column contains a lot of missing values: almost 35%. When thinking about the **reasons**, the most likely is human or technical mistake. \n",
    "\n",
    "customer_id information is important for this dataset and this amount of missing values might affect our analysis drastically. \n",
    "\n",
    "However, since we do not have a chance to replenish this data, it is better to replace the missing values with indicators that data is missing."
   ]
  },
  {
   "cell_type": "code",
   "execution_count": 7,
   "metadata": {},
   "outputs": [],
   "source": [
    "#filling in the missing values at the customer_id column\n",
    "\n",
    "retail_us[\"customer_id\"] = retail_us[\"customer_id\"].fillna(value=\"unknown\")"
   ]
  },
  {
   "cell_type": "markdown",
   "metadata": {},
   "source": [
    "#### Looking for duplicates"
   ]
  },
  {
   "cell_type": "code",
   "execution_count": 8,
   "metadata": {},
   "outputs": [
    {
     "data": {
      "text/plain": [
       "1033"
      ]
     },
     "metadata": {},
     "output_type": "display_data"
    }
   ],
   "source": [
    "#displaying the amount of duplicated data\n",
    "\n",
    "duplicated = retail_us.duplicated().sum()\n",
    "\n",
    "display(duplicated)"
   ]
  },
  {
   "cell_type": "code",
   "execution_count": 9,
   "metadata": {},
   "outputs": [
    {
     "data": {
      "text/plain": [
       "104302"
      ]
     },
     "execution_count": 9,
     "metadata": {},
     "output_type": "execute_result"
    }
   ],
   "source": [
    "#displaying the amount of duplicated data\n",
    "\n",
    "(~retail_us.duplicated()).sum()"
   ]
  },
  {
   "cell_type": "code",
   "execution_count": 10,
   "metadata": {},
   "outputs": [
    {
     "data": {
      "text/plain": [
       "0.9806806854321926"
      ]
     },
     "execution_count": 10,
     "metadata": {},
     "output_type": "execute_result"
    }
   ],
   "source": [
    "#calculating the percentage of duplicates in the dataset\n",
    "\n",
    "retail_us.duplicated().sum()*100/len(retail_us)"
   ]
  },
  {
   "cell_type": "markdown",
   "metadata": {},
   "source": [
    "##### Conclusion\n",
    "\n",
    "We see that the amount of duplicates constitutes only 0.9% out of the entire dataset. It is safe to drop them."
   ]
  },
  {
   "cell_type": "code",
   "execution_count": 11,
   "metadata": {
    "scrolled": true
   },
   "outputs": [
    {
     "data": {
      "text/html": [
       "<div>\n",
       "<style scoped>\n",
       "    .dataframe tbody tr th:only-of-type {\n",
       "        vertical-align: middle;\n",
       "    }\n",
       "\n",
       "    .dataframe tbody tr th {\n",
       "        vertical-align: top;\n",
       "    }\n",
       "\n",
       "    .dataframe thead th {\n",
       "        text-align: right;\n",
       "    }\n",
       "</style>\n",
       "<table border=\"1\" class=\"dataframe\">\n",
       "  <thead>\n",
       "    <tr style=\"text-align: right;\">\n",
       "      <th></th>\n",
       "      <th>purchase_id</th>\n",
       "      <th>item_id</th>\n",
       "      <th>quantity</th>\n",
       "      <th>purchase_date</th>\n",
       "      <th>customer_id</th>\n",
       "      <th>loyalty_program</th>\n",
       "      <th>shop_id</th>\n",
       "      <th>purchase_month</th>\n",
       "    </tr>\n",
       "  </thead>\n",
       "  <tbody>\n",
       "    <tr>\n",
       "      <td>0</td>\n",
       "      <td>538280</td>\n",
       "      <td>21873</td>\n",
       "      <td>11</td>\n",
       "      <td>2016-12-10 12:50:00</td>\n",
       "      <td>18427</td>\n",
       "      <td>0</td>\n",
       "      <td>Shop 3</td>\n",
       "      <td>2016-12-01</td>\n",
       "    </tr>\n",
       "    <tr>\n",
       "      <td>1</td>\n",
       "      <td>538862</td>\n",
       "      <td>22195</td>\n",
       "      <td>0</td>\n",
       "      <td>2016-12-14 14:11:00</td>\n",
       "      <td>22389</td>\n",
       "      <td>1</td>\n",
       "      <td>Shop 2</td>\n",
       "      <td>2016-12-01</td>\n",
       "    </tr>\n",
       "    <tr>\n",
       "      <td>2</td>\n",
       "      <td>538855</td>\n",
       "      <td>21239</td>\n",
       "      <td>7</td>\n",
       "      <td>2016-12-14 13:50:00</td>\n",
       "      <td>22182</td>\n",
       "      <td>1</td>\n",
       "      <td>Shop 3</td>\n",
       "      <td>2016-12-01</td>\n",
       "    </tr>\n",
       "    <tr>\n",
       "      <td>3</td>\n",
       "      <td>543543</td>\n",
       "      <td>22271</td>\n",
       "      <td>0</td>\n",
       "      <td>2017-02-09 15:33:00</td>\n",
       "      <td>23522</td>\n",
       "      <td>1</td>\n",
       "      <td>Shop 28</td>\n",
       "      <td>2017-02-01</td>\n",
       "    </tr>\n",
       "    <tr>\n",
       "      <td>4</td>\n",
       "      <td>543812</td>\n",
       "      <td>79321</td>\n",
       "      <td>0</td>\n",
       "      <td>2017-02-13 14:40:00</td>\n",
       "      <td>23151</td>\n",
       "      <td>1</td>\n",
       "      <td>Shop 28</td>\n",
       "      <td>2017-02-01</td>\n",
       "    </tr>\n",
       "    <tr>\n",
       "      <td>...</td>\n",
       "      <td>...</td>\n",
       "      <td>...</td>\n",
       "      <td>...</td>\n",
       "      <td>...</td>\n",
       "      <td>...</td>\n",
       "      <td>...</td>\n",
       "      <td>...</td>\n",
       "      <td>...</td>\n",
       "    </tr>\n",
       "    <tr>\n",
       "      <td>105330</td>\n",
       "      <td>538566</td>\n",
       "      <td>21826</td>\n",
       "      <td>1</td>\n",
       "      <td>2016-12-13 11:21:00</td>\n",
       "      <td>unknown</td>\n",
       "      <td>0</td>\n",
       "      <td>Shop 0</td>\n",
       "      <td>2016-12-01</td>\n",
       "    </tr>\n",
       "    <tr>\n",
       "      <td>105331</td>\n",
       "      <td>540247</td>\n",
       "      <td>21742</td>\n",
       "      <td>0</td>\n",
       "      <td>2017-01-05 15:56:00</td>\n",
       "      <td>21143</td>\n",
       "      <td>0</td>\n",
       "      <td>Shop 24</td>\n",
       "      <td>2017-01-01</td>\n",
       "    </tr>\n",
       "    <tr>\n",
       "      <td>105332</td>\n",
       "      <td>538068</td>\n",
       "      <td>85048</td>\n",
       "      <td>1</td>\n",
       "      <td>2016-12-09 14:05:00</td>\n",
       "      <td>23657</td>\n",
       "      <td>1</td>\n",
       "      <td>Shop 16</td>\n",
       "      <td>2016-12-01</td>\n",
       "    </tr>\n",
       "    <tr>\n",
       "      <td>105333</td>\n",
       "      <td>538207</td>\n",
       "      <td>22818</td>\n",
       "      <td>11</td>\n",
       "      <td>2016-12-10 11:33:00</td>\n",
       "      <td>18427</td>\n",
       "      <td>0</td>\n",
       "      <td>Shop 29</td>\n",
       "      <td>2016-12-01</td>\n",
       "    </tr>\n",
       "    <tr>\n",
       "      <td>105334</td>\n",
       "      <td>543977</td>\n",
       "      <td>22384</td>\n",
       "      <td>9</td>\n",
       "      <td>2017-02-14 15:35:00</td>\n",
       "      <td>21294</td>\n",
       "      <td>0</td>\n",
       "      <td>Shop 19</td>\n",
       "      <td>2017-02-01</td>\n",
       "    </tr>\n",
       "  </tbody>\n",
       "</table>\n",
       "<p>104302 rows × 8 columns</p>\n",
       "</div>"
      ],
      "text/plain": [
       "       purchase_id item_id  quantity       purchase_date customer_id  \\\n",
       "0           538280   21873        11 2016-12-10 12:50:00       18427   \n",
       "1           538862   22195         0 2016-12-14 14:11:00       22389   \n",
       "2           538855   21239         7 2016-12-14 13:50:00       22182   \n",
       "3           543543   22271         0 2017-02-09 15:33:00       23522   \n",
       "4           543812   79321         0 2017-02-13 14:40:00       23151   \n",
       "...            ...     ...       ...                 ...         ...   \n",
       "105330      538566   21826         1 2016-12-13 11:21:00     unknown   \n",
       "105331      540247   21742         0 2017-01-05 15:56:00       21143   \n",
       "105332      538068   85048         1 2016-12-09 14:05:00       23657   \n",
       "105333      538207   22818        11 2016-12-10 11:33:00       18427   \n",
       "105334      543977   22384         9 2017-02-14 15:35:00       21294   \n",
       "\n",
       "        loyalty_program  shop_id purchase_month  \n",
       "0                     0   Shop 3     2016-12-01  \n",
       "1                     1   Shop 2     2016-12-01  \n",
       "2                     1   Shop 3     2016-12-01  \n",
       "3                     1  Shop 28     2017-02-01  \n",
       "4                     1  Shop 28     2017-02-01  \n",
       "...                 ...      ...            ...  \n",
       "105330                0   Shop 0     2016-12-01  \n",
       "105331                0  Shop 24     2017-01-01  \n",
       "105332                1  Shop 16     2016-12-01  \n",
       "105333                0  Shop 29     2016-12-01  \n",
       "105334                0  Shop 19     2017-02-01  \n",
       "\n",
       "[104302 rows x 8 columns]"
      ]
     },
     "execution_count": 11,
     "metadata": {},
     "output_type": "execute_result"
    }
   ],
   "source": [
    "#droping the duplicates\n",
    "\n",
    "retail_us.drop_duplicates()"
   ]
  },
  {
   "cell_type": "markdown",
   "metadata": {},
   "source": [
    "<div class=\"alert alert-success\">\n",
    "    +\n",
    "</div>"
   ]
  },
  {
   "cell_type": "markdown",
   "metadata": {},
   "source": [
    "#### retail_us dataframe: EDA Conclusion\n",
    "\n",
    "We have conducted EDA for retail_us dataframe. Here are our **conclusions**:\n",
    "\n",
    "- the columns have been renamed and the data types have been changed\n",
    "- we have discovered a considerable amount of **missing values** (almost 37%) in the customer_id column. It has been decided not to replace them but indicate that the value is missing.\n",
    "- there have also been discovered some **duplicates** in the dataset. However, their amount is only 0.9%, so it was decided to drop the duplicates.\n",
    "\n",
    "The data is now ready for further analysis."
   ]
  },
  {
   "cell_type": "markdown",
   "metadata": {},
   "source": [
    "### product_codes dataframe"
   ]
  },
  {
   "cell_type": "code",
   "execution_count": 12,
   "metadata": {},
   "outputs": [
    {
     "name": "stdout",
     "output_type": "stream",
     "text": [
      "<class 'pandas.core.frame.DataFrame'>\n",
      "RangeIndex: 3159 entries, 0 to 3158\n",
      "Data columns (total 2 columns):\n",
      "productID        3159 non-null object\n",
      "price_per_one    3159 non-null float64\n",
      "dtypes: float64(1), object(1)\n",
      "memory usage: 49.5+ KB\n",
      "None\n",
      "\n",
      "product_codes, head:\n"
     ]
    },
    {
     "data": {
      "text/html": [
       "<div>\n",
       "<style scoped>\n",
       "    .dataframe tbody tr th:only-of-type {\n",
       "        vertical-align: middle;\n",
       "    }\n",
       "\n",
       "    .dataframe tbody tr th {\n",
       "        vertical-align: top;\n",
       "    }\n",
       "\n",
       "    .dataframe thead th {\n",
       "        text-align: right;\n",
       "    }\n",
       "</style>\n",
       "<table border=\"1\" class=\"dataframe\">\n",
       "  <thead>\n",
       "    <tr style=\"text-align: right;\">\n",
       "      <th></th>\n",
       "      <th>productID</th>\n",
       "      <th>price_per_one</th>\n",
       "    </tr>\n",
       "  </thead>\n",
       "  <tbody>\n",
       "    <tr>\n",
       "      <td>0</td>\n",
       "      <td>10002</td>\n",
       "      <td>0.85</td>\n",
       "    </tr>\n",
       "    <tr>\n",
       "      <td>1</td>\n",
       "      <td>10080</td>\n",
       "      <td>0.85</td>\n",
       "    </tr>\n",
       "    <tr>\n",
       "      <td>2</td>\n",
       "      <td>10120</td>\n",
       "      <td>0.21</td>\n",
       "    </tr>\n",
       "    <tr>\n",
       "      <td>3</td>\n",
       "      <td>10123C</td>\n",
       "      <td>0.65</td>\n",
       "    </tr>\n",
       "    <tr>\n",
       "      <td>4</td>\n",
       "      <td>10124A</td>\n",
       "      <td>0.42</td>\n",
       "    </tr>\n",
       "  </tbody>\n",
       "</table>\n",
       "</div>"
      ],
      "text/plain": [
       "  productID  price_per_one\n",
       "0     10002           0.85\n",
       "1     10080           0.85\n",
       "2     10120           0.21\n",
       "3    10123C           0.65\n",
       "4    10124A           0.42"
      ]
     },
     "metadata": {},
     "output_type": "display_data"
    },
    {
     "name": "stdout",
     "output_type": "stream",
     "text": [
      "\n",
      "product_codes, tail:\n"
     ]
    },
    {
     "data": {
      "text/html": [
       "<div>\n",
       "<style scoped>\n",
       "    .dataframe tbody tr th:only-of-type {\n",
       "        vertical-align: middle;\n",
       "    }\n",
       "\n",
       "    .dataframe tbody tr th {\n",
       "        vertical-align: top;\n",
       "    }\n",
       "\n",
       "    .dataframe thead th {\n",
       "        text-align: right;\n",
       "    }\n",
       "</style>\n",
       "<table border=\"1\" class=\"dataframe\">\n",
       "  <thead>\n",
       "    <tr style=\"text-align: right;\">\n",
       "      <th></th>\n",
       "      <th>productID</th>\n",
       "      <th>price_per_one</th>\n",
       "    </tr>\n",
       "  </thead>\n",
       "  <tbody>\n",
       "    <tr>\n",
       "      <td>3154</td>\n",
       "      <td>gift_0001_20</td>\n",
       "      <td>16.67</td>\n",
       "    </tr>\n",
       "    <tr>\n",
       "      <td>3155</td>\n",
       "      <td>gift_0001_30</td>\n",
       "      <td>25.00</td>\n",
       "    </tr>\n",
       "    <tr>\n",
       "      <td>3156</td>\n",
       "      <td>gift_0001_40</td>\n",
       "      <td>34.04</td>\n",
       "    </tr>\n",
       "    <tr>\n",
       "      <td>3157</td>\n",
       "      <td>gift_0001_50</td>\n",
       "      <td>42.55</td>\n",
       "    </tr>\n",
       "    <tr>\n",
       "      <td>3158</td>\n",
       "      <td>m</td>\n",
       "      <td>2.55</td>\n",
       "    </tr>\n",
       "  </tbody>\n",
       "</table>\n",
       "</div>"
      ],
      "text/plain": [
       "         productID  price_per_one\n",
       "3154  gift_0001_20          16.67\n",
       "3155  gift_0001_30          25.00\n",
       "3156  gift_0001_40          34.04\n",
       "3157  gift_0001_50          42.55\n",
       "3158             m           2.55"
      ]
     },
     "metadata": {},
     "output_type": "display_data"
    },
    {
     "name": "stdout",
     "output_type": "stream",
     "text": [
      "\n",
      "product_codes, sample:\n"
     ]
    },
    {
     "data": {
      "text/html": [
       "<div>\n",
       "<style scoped>\n",
       "    .dataframe tbody tr th:only-of-type {\n",
       "        vertical-align: middle;\n",
       "    }\n",
       "\n",
       "    .dataframe tbody tr th {\n",
       "        vertical-align: top;\n",
       "    }\n",
       "\n",
       "    .dataframe thead th {\n",
       "        text-align: right;\n",
       "    }\n",
       "</style>\n",
       "<table border=\"1\" class=\"dataframe\">\n",
       "  <thead>\n",
       "    <tr style=\"text-align: right;\">\n",
       "      <th></th>\n",
       "      <th>productID</th>\n",
       "      <th>price_per_one</th>\n",
       "    </tr>\n",
       "  </thead>\n",
       "  <tbody>\n",
       "    <tr>\n",
       "      <td>2745</td>\n",
       "      <td>85169C</td>\n",
       "      <td>0.42</td>\n",
       "    </tr>\n",
       "    <tr>\n",
       "      <td>3021</td>\n",
       "      <td>90164B</td>\n",
       "      <td>7.48</td>\n",
       "    </tr>\n",
       "    <tr>\n",
       "      <td>1769</td>\n",
       "      <td>22928</td>\n",
       "      <td>5.95</td>\n",
       "    </tr>\n",
       "    <tr>\n",
       "      <td>1484</td>\n",
       "      <td>22631</td>\n",
       "      <td>1.65</td>\n",
       "    </tr>\n",
       "    <tr>\n",
       "      <td>2955</td>\n",
       "      <td>90123C</td>\n",
       "      <td>5.94</td>\n",
       "    </tr>\n",
       "  </tbody>\n",
       "</table>\n",
       "</div>"
      ],
      "text/plain": [
       "     productID  price_per_one\n",
       "2745    85169C           0.42\n",
       "3021    90164B           7.48\n",
       "1769     22928           5.95\n",
       "1484     22631           1.65\n",
       "2955    90123C           5.94"
      ]
     },
     "execution_count": 12,
     "metadata": {},
     "output_type": "execute_result"
    }
   ],
   "source": [
    "#exploring the product_codes dataframe\n",
    "\n",
    "print(product_codes.info())\n",
    "print()\n",
    "print(\"product_codes, head:\")\n",
    "display(product_codes.head())\n",
    "print()\n",
    "print(\"product_codes, tail:\")\n",
    "display(product_codes.tail())\n",
    "print()\n",
    "print(\"product_codes, sample:\")\n",
    "product_codes.sample(5)"
   ]
  },
  {
   "cell_type": "markdown",
   "metadata": {},
   "source": [
    "##### Conclusion\n",
    "\n",
    "After looking at the dataframe, we can see that the following can be done:\n",
    "\n",
    "- [x] renaming the columns\n",
    "- [x] converting the data types: both for memory optimization and the convenience of further analysis\n",
    "\n",
    "We can also see that the product IDs are rather inconsistent. We see names such as m, 85160A, gift_0001_50 which can impact the quality of further analysis. \n",
    "\n",
    "However, this is a problem of dataset or/and the chain that has different naming conventions for each store. And we, as data analysts, can do little about it."
   ]
  },
  {
   "cell_type": "code",
   "execution_count": 13,
   "metadata": {},
   "outputs": [],
   "source": [
    "#renaming the columns\n",
    "\n",
    "product_codes.columns = ['product_id', 'price_per_one']"
   ]
  },
  {
   "cell_type": "code",
   "execution_count": 14,
   "metadata": {},
   "outputs": [],
   "source": [
    "#converting the data types\n",
    "\n",
    "product_codes['product_id'] = product_codes['product_id'].astype('category')"
   ]
  },
  {
   "cell_type": "markdown",
   "metadata": {},
   "source": [
    "#### Exploring the missing values"
   ]
  },
  {
   "cell_type": "code",
   "execution_count": 15,
   "metadata": {},
   "outputs": [
    {
     "data": {
      "text/plain": [
       "product_id       0.0\n",
       "price_per_one    0.0\n",
       "dtype: float64"
      ]
     },
     "execution_count": 15,
     "metadata": {},
     "output_type": "execute_result"
    }
   ],
   "source": [
    "#looking for the missing values\n",
    "\n",
    "product_codes.isnull().sum()*100/len(product_codes)"
   ]
  },
  {
   "cell_type": "markdown",
   "metadata": {},
   "source": [
    "##### Conclusion\n",
    "\n",
    "No missing values were identified."
   ]
  },
  {
   "cell_type": "markdown",
   "metadata": {},
   "source": [
    "#### Looking for duplicates"
   ]
  },
  {
   "cell_type": "code",
   "execution_count": 16,
   "metadata": {},
   "outputs": [
    {
     "data": {
      "text/plain": [
       "0.0"
      ]
     },
     "execution_count": 16,
     "metadata": {},
     "output_type": "execute_result"
    }
   ],
   "source": [
    "#calculating the percentage of duplicates in the dataset\n",
    "\n",
    "product_codes.duplicated().sum()*100/len(product_codes)"
   ]
  },
  {
   "cell_type": "markdown",
   "metadata": {},
   "source": [
    "##### Conclusion\n",
    "\n",
    "No duplicates were identified."
   ]
  },
  {
   "cell_type": "markdown",
   "metadata": {},
   "source": [
    "#### product_codes dataframe: EDA Conclusion\n",
    "\n",
    "We have conducted EDA for product_codes dataframe. Here are our **conclusions**:\n",
    "\n",
    "- the columns have been renamed and the data types have been changed\n",
    "- we have not discovered any duplicates or/and missing values\n",
    "\n",
    "The data is now ready for further analysis."
   ]
  },
  {
   "cell_type": "markdown",
   "metadata": {},
   "source": [
    "## Assessing the performance of the sales outlets\n",
    "\n",
    "To recap, here is what will be done:\n",
    "\n",
    "- [x] calculating the amount of customers who have opted in the loyalty program per store\n",
    "- [x] calculating the amount of purchases per month per store\n",
    "- [x] calculating the average amount of items purchased per customer (loyal and non-loyal)\n",
    "- [x] calculating the average amount of items purchased per store"
   ]
  },
  {
   "cell_type": "markdown",
   "metadata": {},
   "source": [
    "### Calculating the amount of customers who have opted in the loyalty program per store"
   ]
  },
  {
   "cell_type": "code",
   "execution_count": 17,
   "metadata": {},
   "outputs": [
    {
     "data": {
      "text/html": [
       "<div>\n",
       "<style scoped>\n",
       "    .dataframe tbody tr th:only-of-type {\n",
       "        vertical-align: middle;\n",
       "    }\n",
       "\n",
       "    .dataframe tbody tr th {\n",
       "        vertical-align: top;\n",
       "    }\n",
       "\n",
       "    .dataframe thead th {\n",
       "        text-align: right;\n",
       "    }\n",
       "</style>\n",
       "<table border=\"1\" class=\"dataframe\">\n",
       "  <thead>\n",
       "    <tr style=\"text-align: right;\">\n",
       "      <th></th>\n",
       "      <th>customer_id</th>\n",
       "    </tr>\n",
       "    <tr>\n",
       "      <th>loyalty_program</th>\n",
       "      <th></th>\n",
       "    </tr>\n",
       "  </thead>\n",
       "  <tbody>\n",
       "    <tr>\n",
       "      <td>0</td>\n",
       "      <td>1163</td>\n",
       "    </tr>\n",
       "    <tr>\n",
       "      <td>1</td>\n",
       "      <td>587</td>\n",
       "    </tr>\n",
       "  </tbody>\n",
       "</table>\n",
       "</div>"
      ],
      "text/plain": [
       "                 customer_id\n",
       "loyalty_program             \n",
       "0                       1163\n",
       "1                        587"
      ]
     },
     "execution_count": 17,
     "metadata": {},
     "output_type": "execute_result"
    }
   ],
   "source": [
    "#first, we will calculate the overall amount of customers who participate and do not participate in the loyalty program\n",
    "\n",
    "retail_us.groupby(\"loyalty_program\").agg({'customer_id': 'nunique'})"
   ]
  },
  {
   "cell_type": "markdown",
   "metadata": {},
   "source": [
    "##### Conclusions\n",
    "\n",
    "Here, it is important to mention that **loyalty_program 0** means **no** and **loyalty_program 1** means **yes**.\n",
    "\n",
    "Now, we can see that there are **587 unique customers** who have opted into the loyalty program, while there are **1163** who have not. It is also important to mention that customer_id column has a lot of missing values which most likely has skewed the data.\n",
    "\n",
    "Now, we will make the same calculation per each store."
   ]
  },
  {
   "cell_type": "code",
   "execution_count": 18,
   "metadata": {},
   "outputs": [
    {
     "data": {
      "text/html": [
       "<style  type=\"text/css\" >\n",
       "    #T_fc571012_f79a_11eb_9c0b_02420a397dearow5_col1 {\n",
       "            background-color:  #90EE90;\n",
       "            : ;\n",
       "        }    #T_fc571012_f79a_11eb_9c0b_02420a397dearow11_col0 {\n",
       "            background-color:  #90EE90;\n",
       "            : ;\n",
       "        }    #T_fc571012_f79a_11eb_9c0b_02420a397dearow21_col1 {\n",
       "            : ;\n",
       "            background-color:  #cd4f39;\n",
       "        }    #T_fc571012_f79a_11eb_9c0b_02420a397dearow23_col0 {\n",
       "            : ;\n",
       "            background-color:  #cd4f39;\n",
       "        }</style><table id=\"T_fc571012_f79a_11eb_9c0b_02420a397dea\" ><thead>    <tr>        <th class=\"blank level0\" ></th>        <th class=\"col_heading level0 col0\" colspan=2>customer_id</th>    </tr>    <tr>        <th class=\"index_name level1\" >loyalty_program</th>        <th class=\"col_heading level1 col0\" >0</th>        <th class=\"col_heading level1 col1\" >1</th>    </tr>    <tr>        <th class=\"index_name level0\" >shop_id</th>        <th class=\"blank\" ></th>        <th class=\"blank\" ></th>    </tr></thead><tbody>\n",
       "                <tr>\n",
       "                        <th id=\"T_fc571012_f79a_11eb_9c0b_02420a397dealevel0_row0\" class=\"row_heading level0 row0\" >Shop 0</th>\n",
       "                        <td id=\"T_fc571012_f79a_11eb_9c0b_02420a397dearow0_col0\" class=\"data row0 col0\" >98</td>\n",
       "                        <td id=\"T_fc571012_f79a_11eb_9c0b_02420a397dearow0_col1\" class=\"data row0 col1\" >40</td>\n",
       "            </tr>\n",
       "            <tr>\n",
       "                        <th id=\"T_fc571012_f79a_11eb_9c0b_02420a397dealevel0_row1\" class=\"row_heading level0 row1\" >Shop 1</th>\n",
       "                        <td id=\"T_fc571012_f79a_11eb_9c0b_02420a397dearow1_col0\" class=\"data row1 col0\" >94</td>\n",
       "                        <td id=\"T_fc571012_f79a_11eb_9c0b_02420a397dearow1_col1\" class=\"data row1 col1\" >39</td>\n",
       "            </tr>\n",
       "            <tr>\n",
       "                        <th id=\"T_fc571012_f79a_11eb_9c0b_02420a397dealevel0_row2\" class=\"row_heading level0 row2\" >Shop 10</th>\n",
       "                        <td id=\"T_fc571012_f79a_11eb_9c0b_02420a397dearow2_col0\" class=\"data row2 col0\" >73</td>\n",
       "                        <td id=\"T_fc571012_f79a_11eb_9c0b_02420a397dearow2_col1\" class=\"data row2 col1\" >42</td>\n",
       "            </tr>\n",
       "            <tr>\n",
       "                        <th id=\"T_fc571012_f79a_11eb_9c0b_02420a397dealevel0_row3\" class=\"row_heading level0 row3\" >Shop 11</th>\n",
       "                        <td id=\"T_fc571012_f79a_11eb_9c0b_02420a397dearow3_col0\" class=\"data row3 col0\" >89</td>\n",
       "                        <td id=\"T_fc571012_f79a_11eb_9c0b_02420a397dearow3_col1\" class=\"data row3 col1\" >43</td>\n",
       "            </tr>\n",
       "            <tr>\n",
       "                        <th id=\"T_fc571012_f79a_11eb_9c0b_02420a397dealevel0_row4\" class=\"row_heading level0 row4\" >Shop 12</th>\n",
       "                        <td id=\"T_fc571012_f79a_11eb_9c0b_02420a397dearow4_col0\" class=\"data row4 col0\" >79</td>\n",
       "                        <td id=\"T_fc571012_f79a_11eb_9c0b_02420a397dearow4_col1\" class=\"data row4 col1\" >39</td>\n",
       "            </tr>\n",
       "            <tr>\n",
       "                        <th id=\"T_fc571012_f79a_11eb_9c0b_02420a397dealevel0_row5\" class=\"row_heading level0 row5\" >Shop 13</th>\n",
       "                        <td id=\"T_fc571012_f79a_11eb_9c0b_02420a397dearow5_col0\" class=\"data row5 col0\" >78</td>\n",
       "                        <td id=\"T_fc571012_f79a_11eb_9c0b_02420a397dearow5_col1\" class=\"data row5 col1\" >50</td>\n",
       "            </tr>\n",
       "            <tr>\n",
       "                        <th id=\"T_fc571012_f79a_11eb_9c0b_02420a397dealevel0_row6\" class=\"row_heading level0 row6\" >Shop 14</th>\n",
       "                        <td id=\"T_fc571012_f79a_11eb_9c0b_02420a397dearow6_col0\" class=\"data row6 col0\" >88</td>\n",
       "                        <td id=\"T_fc571012_f79a_11eb_9c0b_02420a397dearow6_col1\" class=\"data row6 col1\" >39</td>\n",
       "            </tr>\n",
       "            <tr>\n",
       "                        <th id=\"T_fc571012_f79a_11eb_9c0b_02420a397dealevel0_row7\" class=\"row_heading level0 row7\" >Shop 15</th>\n",
       "                        <td id=\"T_fc571012_f79a_11eb_9c0b_02420a397dearow7_col0\" class=\"data row7 col0\" >93</td>\n",
       "                        <td id=\"T_fc571012_f79a_11eb_9c0b_02420a397dearow7_col1\" class=\"data row7 col1\" >37</td>\n",
       "            </tr>\n",
       "            <tr>\n",
       "                        <th id=\"T_fc571012_f79a_11eb_9c0b_02420a397dealevel0_row8\" class=\"row_heading level0 row8\" >Shop 16</th>\n",
       "                        <td id=\"T_fc571012_f79a_11eb_9c0b_02420a397dearow8_col0\" class=\"data row8 col0\" >70</td>\n",
       "                        <td id=\"T_fc571012_f79a_11eb_9c0b_02420a397dearow8_col1\" class=\"data row8 col1\" >41</td>\n",
       "            </tr>\n",
       "            <tr>\n",
       "                        <th id=\"T_fc571012_f79a_11eb_9c0b_02420a397dealevel0_row9\" class=\"row_heading level0 row9\" >Shop 17</th>\n",
       "                        <td id=\"T_fc571012_f79a_11eb_9c0b_02420a397dearow9_col0\" class=\"data row9 col0\" >86</td>\n",
       "                        <td id=\"T_fc571012_f79a_11eb_9c0b_02420a397dearow9_col1\" class=\"data row9 col1\" >48</td>\n",
       "            </tr>\n",
       "            <tr>\n",
       "                        <th id=\"T_fc571012_f79a_11eb_9c0b_02420a397dealevel0_row10\" class=\"row_heading level0 row10\" >Shop 18</th>\n",
       "                        <td id=\"T_fc571012_f79a_11eb_9c0b_02420a397dearow10_col0\" class=\"data row10 col0\" >81</td>\n",
       "                        <td id=\"T_fc571012_f79a_11eb_9c0b_02420a397dearow10_col1\" class=\"data row10 col1\" >37</td>\n",
       "            </tr>\n",
       "            <tr>\n",
       "                        <th id=\"T_fc571012_f79a_11eb_9c0b_02420a397dealevel0_row11\" class=\"row_heading level0 row11\" >Shop 19</th>\n",
       "                        <td id=\"T_fc571012_f79a_11eb_9c0b_02420a397dearow11_col0\" class=\"data row11 col0\" >102</td>\n",
       "                        <td id=\"T_fc571012_f79a_11eb_9c0b_02420a397dearow11_col1\" class=\"data row11 col1\" >36</td>\n",
       "            </tr>\n",
       "            <tr>\n",
       "                        <th id=\"T_fc571012_f79a_11eb_9c0b_02420a397dealevel0_row12\" class=\"row_heading level0 row12\" >Shop 2</th>\n",
       "                        <td id=\"T_fc571012_f79a_11eb_9c0b_02420a397dearow12_col0\" class=\"data row12 col0\" >83</td>\n",
       "                        <td id=\"T_fc571012_f79a_11eb_9c0b_02420a397dearow12_col1\" class=\"data row12 col1\" >40</td>\n",
       "            </tr>\n",
       "            <tr>\n",
       "                        <th id=\"T_fc571012_f79a_11eb_9c0b_02420a397dealevel0_row13\" class=\"row_heading level0 row13\" >Shop 20</th>\n",
       "                        <td id=\"T_fc571012_f79a_11eb_9c0b_02420a397dearow13_col0\" class=\"data row13 col0\" >80</td>\n",
       "                        <td id=\"T_fc571012_f79a_11eb_9c0b_02420a397dearow13_col1\" class=\"data row13 col1\" >49</td>\n",
       "            </tr>\n",
       "            <tr>\n",
       "                        <th id=\"T_fc571012_f79a_11eb_9c0b_02420a397dealevel0_row14\" class=\"row_heading level0 row14\" >Shop 21</th>\n",
       "                        <td id=\"T_fc571012_f79a_11eb_9c0b_02420a397dearow14_col0\" class=\"data row14 col0\" >78</td>\n",
       "                        <td id=\"T_fc571012_f79a_11eb_9c0b_02420a397dearow14_col1\" class=\"data row14 col1\" >39</td>\n",
       "            </tr>\n",
       "            <tr>\n",
       "                        <th id=\"T_fc571012_f79a_11eb_9c0b_02420a397dealevel0_row15\" class=\"row_heading level0 row15\" >Shop 22</th>\n",
       "                        <td id=\"T_fc571012_f79a_11eb_9c0b_02420a397dearow15_col0\" class=\"data row15 col0\" >87</td>\n",
       "                        <td id=\"T_fc571012_f79a_11eb_9c0b_02420a397dearow15_col1\" class=\"data row15 col1\" >46</td>\n",
       "            </tr>\n",
       "            <tr>\n",
       "                        <th id=\"T_fc571012_f79a_11eb_9c0b_02420a397dealevel0_row16\" class=\"row_heading level0 row16\" >Shop 23</th>\n",
       "                        <td id=\"T_fc571012_f79a_11eb_9c0b_02420a397dearow16_col0\" class=\"data row16 col0\" >70</td>\n",
       "                        <td id=\"T_fc571012_f79a_11eb_9c0b_02420a397dearow16_col1\" class=\"data row16 col1\" >40</td>\n",
       "            </tr>\n",
       "            <tr>\n",
       "                        <th id=\"T_fc571012_f79a_11eb_9c0b_02420a397dealevel0_row17\" class=\"row_heading level0 row17\" >Shop 24</th>\n",
       "                        <td id=\"T_fc571012_f79a_11eb_9c0b_02420a397dearow17_col0\" class=\"data row17 col0\" >91</td>\n",
       "                        <td id=\"T_fc571012_f79a_11eb_9c0b_02420a397dearow17_col1\" class=\"data row17 col1\" >40</td>\n",
       "            </tr>\n",
       "            <tr>\n",
       "                        <th id=\"T_fc571012_f79a_11eb_9c0b_02420a397dealevel0_row18\" class=\"row_heading level0 row18\" >Shop 25</th>\n",
       "                        <td id=\"T_fc571012_f79a_11eb_9c0b_02420a397dearow18_col0\" class=\"data row18 col0\" >61</td>\n",
       "                        <td id=\"T_fc571012_f79a_11eb_9c0b_02420a397dearow18_col1\" class=\"data row18 col1\" >39</td>\n",
       "            </tr>\n",
       "            <tr>\n",
       "                        <th id=\"T_fc571012_f79a_11eb_9c0b_02420a397dealevel0_row19\" class=\"row_heading level0 row19\" >Shop 26</th>\n",
       "                        <td id=\"T_fc571012_f79a_11eb_9c0b_02420a397dearow19_col0\" class=\"data row19 col0\" >86</td>\n",
       "                        <td id=\"T_fc571012_f79a_11eb_9c0b_02420a397dearow19_col1\" class=\"data row19 col1\" >49</td>\n",
       "            </tr>\n",
       "            <tr>\n",
       "                        <th id=\"T_fc571012_f79a_11eb_9c0b_02420a397dealevel0_row20\" class=\"row_heading level0 row20\" >Shop 27</th>\n",
       "                        <td id=\"T_fc571012_f79a_11eb_9c0b_02420a397dearow20_col0\" class=\"data row20 col0\" >85</td>\n",
       "                        <td id=\"T_fc571012_f79a_11eb_9c0b_02420a397dearow20_col1\" class=\"data row20 col1\" >40</td>\n",
       "            </tr>\n",
       "            <tr>\n",
       "                        <th id=\"T_fc571012_f79a_11eb_9c0b_02420a397dealevel0_row21\" class=\"row_heading level0 row21\" >Shop 28</th>\n",
       "                        <td id=\"T_fc571012_f79a_11eb_9c0b_02420a397dearow21_col0\" class=\"data row21 col0\" >95</td>\n",
       "                        <td id=\"T_fc571012_f79a_11eb_9c0b_02420a397dearow21_col1\" class=\"data row21 col1\" >33</td>\n",
       "            </tr>\n",
       "            <tr>\n",
       "                        <th id=\"T_fc571012_f79a_11eb_9c0b_02420a397dealevel0_row22\" class=\"row_heading level0 row22\" >Shop 29</th>\n",
       "                        <td id=\"T_fc571012_f79a_11eb_9c0b_02420a397dearow22_col0\" class=\"data row22 col0\" >82</td>\n",
       "                        <td id=\"T_fc571012_f79a_11eb_9c0b_02420a397dearow22_col1\" class=\"data row22 col1\" >43</td>\n",
       "            </tr>\n",
       "            <tr>\n",
       "                        <th id=\"T_fc571012_f79a_11eb_9c0b_02420a397dealevel0_row23\" class=\"row_heading level0 row23\" >Shop 3</th>\n",
       "                        <td id=\"T_fc571012_f79a_11eb_9c0b_02420a397dearow23_col0\" class=\"data row23 col0\" >57</td>\n",
       "                        <td id=\"T_fc571012_f79a_11eb_9c0b_02420a397dearow23_col1\" class=\"data row23 col1\" >44</td>\n",
       "            </tr>\n",
       "            <tr>\n",
       "                        <th id=\"T_fc571012_f79a_11eb_9c0b_02420a397dealevel0_row24\" class=\"row_heading level0 row24\" >Shop 30</th>\n",
       "                        <td id=\"T_fc571012_f79a_11eb_9c0b_02420a397dearow24_col0\" class=\"data row24 col0\" >86</td>\n",
       "                        <td id=\"T_fc571012_f79a_11eb_9c0b_02420a397dearow24_col1\" class=\"data row24 col1\" >36</td>\n",
       "            </tr>\n",
       "            <tr>\n",
       "                        <th id=\"T_fc571012_f79a_11eb_9c0b_02420a397dealevel0_row25\" class=\"row_heading level0 row25\" >Shop 4</th>\n",
       "                        <td id=\"T_fc571012_f79a_11eb_9c0b_02420a397dearow25_col0\" class=\"data row25 col0\" >86</td>\n",
       "                        <td id=\"T_fc571012_f79a_11eb_9c0b_02420a397dearow25_col1\" class=\"data row25 col1\" >38</td>\n",
       "            </tr>\n",
       "            <tr>\n",
       "                        <th id=\"T_fc571012_f79a_11eb_9c0b_02420a397dealevel0_row26\" class=\"row_heading level0 row26\" >Shop 5</th>\n",
       "                        <td id=\"T_fc571012_f79a_11eb_9c0b_02420a397dearow26_col0\" class=\"data row26 col0\" >99</td>\n",
       "                        <td id=\"T_fc571012_f79a_11eb_9c0b_02420a397dearow26_col1\" class=\"data row26 col1\" >39</td>\n",
       "            </tr>\n",
       "            <tr>\n",
       "                        <th id=\"T_fc571012_f79a_11eb_9c0b_02420a397dealevel0_row27\" class=\"row_heading level0 row27\" >Shop 6</th>\n",
       "                        <td id=\"T_fc571012_f79a_11eb_9c0b_02420a397dearow27_col0\" class=\"data row27 col0\" >73</td>\n",
       "                        <td id=\"T_fc571012_f79a_11eb_9c0b_02420a397dearow27_col1\" class=\"data row27 col1\" >34</td>\n",
       "            </tr>\n",
       "            <tr>\n",
       "                        <th id=\"T_fc571012_f79a_11eb_9c0b_02420a397dealevel0_row28\" class=\"row_heading level0 row28\" >Shop 7</th>\n",
       "                        <td id=\"T_fc571012_f79a_11eb_9c0b_02420a397dearow28_col0\" class=\"data row28 col0\" >90</td>\n",
       "                        <td id=\"T_fc571012_f79a_11eb_9c0b_02420a397dearow28_col1\" class=\"data row28 col1\" >49</td>\n",
       "            </tr>\n",
       "            <tr>\n",
       "                        <th id=\"T_fc571012_f79a_11eb_9c0b_02420a397dealevel0_row29\" class=\"row_heading level0 row29\" >Shop 8</th>\n",
       "                        <td id=\"T_fc571012_f79a_11eb_9c0b_02420a397dearow29_col0\" class=\"data row29 col0\" >80</td>\n",
       "                        <td id=\"T_fc571012_f79a_11eb_9c0b_02420a397dearow29_col1\" class=\"data row29 col1\" >42</td>\n",
       "            </tr>\n",
       "            <tr>\n",
       "                        <th id=\"T_fc571012_f79a_11eb_9c0b_02420a397dealevel0_row30\" class=\"row_heading level0 row30\" >Shop 9</th>\n",
       "                        <td id=\"T_fc571012_f79a_11eb_9c0b_02420a397dearow30_col0\" class=\"data row30 col0\" >94</td>\n",
       "                        <td id=\"T_fc571012_f79a_11eb_9c0b_02420a397dearow30_col1\" class=\"data row30 col1\" >37</td>\n",
       "            </tr>\n",
       "    </tbody></table>"
      ],
      "text/plain": [
       "<pandas.io.formats.style.Styler at 0x7f8198d08f50>"
      ]
     },
     "execution_count": 18,
     "metadata": {},
     "output_type": "execute_result"
    }
   ],
   "source": [
    "#calculating the amount of loyalty program participants and customers who do not participate per store \n",
    "\n",
    "loyalty_program_status = retail_us.pivot_table(\n",
    "    index='shop_id',\n",
    "    columns='loyalty_program',\n",
    "    aggfunc=({'customer_id': 'nunique'})\n",
    ") \n",
    "\n",
    "loyalty_program_status.style.highlight_max(color='#90EE90')\\\n",
    "                .highlight_min(color='#cd4f39')"
   ]
  },
  {
   "cell_type": "markdown",
   "metadata": {},
   "source": [
    "##### Conclusion\n",
    "\n",
    "We have obtained a table that shows the amount of people who opted for a loyalty program, as well the ones who do not, per store.\n",
    "\n",
    "We have also highlighted the lowest numbers (in red) and the highest (in green). Based on it, we see the following:\n",
    "\n",
    "1. **Shop 19** has the biggest amount of non-loyalty program customers: 102.\n",
    "2. **Shop 13** has the biggest amount of loyalty program customers: 50.\n",
    "3. **Shop 28** has the smallest amount of loyalty program customers: 33.\n",
    "\n",
    "Lets also see how many customers each shop has, overall."
   ]
  },
  {
   "cell_type": "code",
   "execution_count": 19,
   "metadata": {},
   "outputs": [
    {
     "data": {
      "image/png": "[encoded data removed]",
      "text/plain": [
       "<Figure size 432x288 with 1 Axes>"
      ]
     },
     "metadata": {
      "needs_background": "light"
     },
     "output_type": "display_data"
    }
   ],
   "source": [
    "#calculating the overall amount of customers per shop and plotting it on a graph\n",
    "\n",
    "customers_overall = retail_us.groupby(\"shop_id\").agg({'customer_id': 'nunique'})\n",
    "\n",
    "customers_overall.plot(kind=\"bar\", grid=True)\n",
    "plt.title(\"The Amount of Customer Per Shop\")\n",
    "plt.xlabel(\"Shop\")\n",
    "plt.ylabel(\"Number of Customers\")\n",
    "plt.show()"
   ]
  },
  {
   "cell_type": "markdown",
   "metadata": {},
   "source": [
    "##### Conclusion\n",
    "\n",
    "We see that the amount of customers per shop are distributed quite evenly. \n",
    "\n",
    "We can speculate it means the following: all shops in the chain perform quite well in terms of the amount of customers and we do not see any downdogs here.\n",
    "\n",
    "We will also plot the similar graphs for loyalty program participants and people who are not into one."
   ]
  },
  {
   "cell_type": "code",
   "execution_count": 20,
   "metadata": {},
   "outputs": [
    {
     "data": {
      "image/png": "[encoded data removed]",
      "text/plain": [
       "<Figure size 432x288 with 1 Axes>"
      ]
     },
     "metadata": {
      "needs_background": "light"
     },
     "output_type": "display_data"
    }
   ],
   "source": [
    "#extracting the loyalty program participants\n",
    "\n",
    "loyalty_program_yes = retail_us[retail_us['loyalty_program']==1]\n",
    "\n",
    "#grouping by store\n",
    "\n",
    "loyalty_by_store = loyalty_program_yes.groupby(\"shop_id\").agg({'customer_id': 'nunique'})\n",
    "\n",
    "#plotting the graph\n",
    "\n",
    "loyalty_by_store.plot(kind=\"bar\", grid=True)\n",
    "plt.title(\"The Amount of Loyalty Program Customers Per Shop\")\n",
    "plt.xlabel(\"Shop\")\n",
    "plt.ylabel(\"Number of Customers\")\n",
    "plt.show()"
   ]
  },
  {
   "cell_type": "markdown",
   "metadata": {},
   "source": [
    "##### Conclusion\n",
    "\n",
    "Looking at the graph, we see that the following shops are leaders in terms of the amount of loyalty program customers:\n",
    "\n",
    "- Shop 13\n",
    "- Shop 17\n",
    "- Shop 20\n",
    "- Shop 27\n",
    "- Shop 7\n",
    "\n",
    "The amount of loyalty program customers per shop is quite even here. **What unifies all these stores?** There can be many reasons: for example, geographical proximity."
   ]
  },
  {
   "cell_type": "code",
   "execution_count": 21,
   "metadata": {},
   "outputs": [
    {
     "data": {
      "image/png": "[encoded data removed]",
      "text/plain": [
       "<Figure size 432x288 with 1 Axes>"
      ]
     },
     "metadata": {
      "needs_background": "light"
     },
     "output_type": "display_data"
    }
   ],
   "source": [
    "#extracting the non-loyalty program participants\n",
    "\n",
    "loyalty_program_no = retail_us[retail_us['loyalty_program']==0]\n",
    "\n",
    "#grouping by store\n",
    "\n",
    "non_loyalty_by_store = loyalty_program_no.groupby(\"shop_id\").agg({'customer_id': 'nunique'})\n",
    "\n",
    "#plotting the graph\n",
    "\n",
    "non_loyalty_by_store.plot(kind=\"bar\", grid=True)\n",
    "plt.title(\"The Amount of Customers Out of the Loyalty Program Per Shop\")\n",
    "plt.xlabel(\"Shop\")\n",
    "plt.ylabel(\"Number of Customers\")\n",
    "plt.show()"
   ]
  },
  {
   "cell_type": "markdown",
   "metadata": {},
   "source": [
    "##### Conclusion\n",
    "\n",
    "Here, we can see the shops with the biggest amount of non-loyalty program customers. These are:\n",
    "\n",
    "- Shop 0\n",
    "- Shop 1\n",
    "- Shop 19\n",
    "- Shop 4"
   ]
  },
  {
   "cell_type": "markdown",
   "metadata": {},
   "source": [
    "### Calculating the number of purchases per month per store\n",
    "\n",
    "It is also important to note that one customer can make more than one purchase per month. Therefore, we will be looking at the general count, not on the amount of unique purchases."
   ]
  },
  {
   "cell_type": "code",
   "execution_count": 22,
   "metadata": {},
   "outputs": [
    {
     "data": {
      "text/html": [
       "<style  type=\"text/css\" >\n",
       "    #T_fde3f260_f79a_11eb_9c0b_02420a397dearow0_col0 {\n",
       "            background-color:  #90EE90;\n",
       "            : ;\n",
       "        }    #T_fde3f260_f79a_11eb_9c0b_02420a397dearow0_col1 {\n",
       "            background-color:  #90EE90;\n",
       "            : ;\n",
       "        }    #T_fde3f260_f79a_11eb_9c0b_02420a397dearow0_col2 {\n",
       "            background-color:  #90EE90;\n",
       "            : ;\n",
       "        }    #T_fde3f260_f79a_11eb_9c0b_02420a397dearow4_col2 {\n",
       "            : ;\n",
       "            background-color:  #cd4f39;\n",
       "        }    #T_fde3f260_f79a_11eb_9c0b_02420a397dearow16_col0 {\n",
       "            : ;\n",
       "            background-color:  #cd4f39;\n",
       "        }    #T_fde3f260_f79a_11eb_9c0b_02420a397dearow27_col1 {\n",
       "            : ;\n",
       "            background-color:  #cd4f39;\n",
       "        }</style><table id=\"T_fde3f260_f79a_11eb_9c0b_02420a397dea\" ><thead>    <tr>        <th class=\"blank level0\" ></th>        <th class=\"col_heading level0 col0\" colspan=3>purchase_id</th>    </tr>    <tr>        <th class=\"index_name level1\" >purchase_month</th>        <th class=\"col_heading level1 col0\" >2016-12-01 00:00:00</th>        <th class=\"col_heading level1 col1\" >2017-01-01 00:00:00</th>        <th class=\"col_heading level1 col2\" >2017-02-01 00:00:00</th>    </tr>    <tr>        <th class=\"index_name level0\" >shop_id</th>        <th class=\"blank\" ></th>        <th class=\"blank\" ></th>        <th class=\"blank\" ></th>    </tr></thead><tbody>\n",
       "                <tr>\n",
       "                        <th id=\"T_fde3f260_f79a_11eb_9c0b_02420a397dealevel0_row0\" class=\"row_heading level0 row0\" >Shop 0</th>\n",
       "                        <td id=\"T_fde3f260_f79a_11eb_9c0b_02420a397dearow0_col0\" class=\"data row0 col0\" >16452</td>\n",
       "                        <td id=\"T_fde3f260_f79a_11eb_9c0b_02420a397dearow0_col1\" class=\"data row0 col1\" >13937</td>\n",
       "                        <td id=\"T_fde3f260_f79a_11eb_9c0b_02420a397dearow0_col2\" class=\"data row0 col2\" >8000</td>\n",
       "            </tr>\n",
       "            <tr>\n",
       "                        <th id=\"T_fde3f260_f79a_11eb_9c0b_02420a397dealevel0_row1\" class=\"row_heading level0 row1\" >Shop 1</th>\n",
       "                        <td id=\"T_fde3f260_f79a_11eb_9c0b_02420a397dearow1_col0\" class=\"data row1 col0\" >758</td>\n",
       "                        <td id=\"T_fde3f260_f79a_11eb_9c0b_02420a397dearow1_col1\" class=\"data row1 col1\" >644</td>\n",
       "                        <td id=\"T_fde3f260_f79a_11eb_9c0b_02420a397dearow1_col2\" class=\"data row1 col2\" >1342</td>\n",
       "            </tr>\n",
       "            <tr>\n",
       "                        <th id=\"T_fde3f260_f79a_11eb_9c0b_02420a397dealevel0_row2\" class=\"row_heading level0 row2\" >Shop 10</th>\n",
       "                        <td id=\"T_fde3f260_f79a_11eb_9c0b_02420a397dearow2_col0\" class=\"data row2 col0\" >1052</td>\n",
       "                        <td id=\"T_fde3f260_f79a_11eb_9c0b_02420a397dearow2_col1\" class=\"data row2 col1\" >619</td>\n",
       "                        <td id=\"T_fde3f260_f79a_11eb_9c0b_02420a397dearow2_col2\" class=\"data row2 col2\" >533</td>\n",
       "            </tr>\n",
       "            <tr>\n",
       "                        <th id=\"T_fde3f260_f79a_11eb_9c0b_02420a397dealevel0_row3\" class=\"row_heading level0 row3\" >Shop 11</th>\n",
       "                        <td id=\"T_fde3f260_f79a_11eb_9c0b_02420a397dearow3_col0\" class=\"data row3 col0\" >926</td>\n",
       "                        <td id=\"T_fde3f260_f79a_11eb_9c0b_02420a397dearow3_col1\" class=\"data row3 col1\" >475</td>\n",
       "                        <td id=\"T_fde3f260_f79a_11eb_9c0b_02420a397dearow3_col2\" class=\"data row3 col2\" >900</td>\n",
       "            </tr>\n",
       "            <tr>\n",
       "                        <th id=\"T_fde3f260_f79a_11eb_9c0b_02420a397dealevel0_row4\" class=\"row_heading level0 row4\" >Shop 12</th>\n",
       "                        <td id=\"T_fde3f260_f79a_11eb_9c0b_02420a397dearow4_col0\" class=\"data row4 col0\" >949</td>\n",
       "                        <td id=\"T_fde3f260_f79a_11eb_9c0b_02420a397dearow4_col1\" class=\"data row4 col1\" >463</td>\n",
       "                        <td id=\"T_fde3f260_f79a_11eb_9c0b_02420a397dearow4_col2\" class=\"data row4 col2\" >374</td>\n",
       "            </tr>\n",
       "            <tr>\n",
       "                        <th id=\"T_fde3f260_f79a_11eb_9c0b_02420a397dealevel0_row5\" class=\"row_heading level0 row5\" >Shop 13</th>\n",
       "                        <td id=\"T_fde3f260_f79a_11eb_9c0b_02420a397dearow5_col0\" class=\"data row5 col0\" >1149</td>\n",
       "                        <td id=\"T_fde3f260_f79a_11eb_9c0b_02420a397dearow5_col1\" class=\"data row5 col1\" >642</td>\n",
       "                        <td id=\"T_fde3f260_f79a_11eb_9c0b_02420a397dearow5_col2\" class=\"data row5 col2\" >657</td>\n",
       "            </tr>\n",
       "            <tr>\n",
       "                        <th id=\"T_fde3f260_f79a_11eb_9c0b_02420a397dealevel0_row6\" class=\"row_heading level0 row6\" >Shop 14</th>\n",
       "                        <td id=\"T_fde3f260_f79a_11eb_9c0b_02420a397dearow6_col0\" class=\"data row6 col0\" >1080</td>\n",
       "                        <td id=\"T_fde3f260_f79a_11eb_9c0b_02420a397dearow6_col1\" class=\"data row6 col1\" >775</td>\n",
       "                        <td id=\"T_fde3f260_f79a_11eb_9c0b_02420a397dearow6_col2\" class=\"data row6 col2\" >545</td>\n",
       "            </tr>\n",
       "            <tr>\n",
       "                        <th id=\"T_fde3f260_f79a_11eb_9c0b_02420a397dealevel0_row7\" class=\"row_heading level0 row7\" >Shop 15</th>\n",
       "                        <td id=\"T_fde3f260_f79a_11eb_9c0b_02420a397dearow7_col0\" class=\"data row7 col0\" >1089</td>\n",
       "                        <td id=\"T_fde3f260_f79a_11eb_9c0b_02420a397dearow7_col1\" class=\"data row7 col1\" >1091</td>\n",
       "                        <td id=\"T_fde3f260_f79a_11eb_9c0b_02420a397dearow7_col2\" class=\"data row7 col2\" >530</td>\n",
       "            </tr>\n",
       "            <tr>\n",
       "                        <th id=\"T_fde3f260_f79a_11eb_9c0b_02420a397dealevel0_row8\" class=\"row_heading level0 row8\" >Shop 16</th>\n",
       "                        <td id=\"T_fde3f260_f79a_11eb_9c0b_02420a397dearow8_col0\" class=\"data row8 col0\" >835</td>\n",
       "                        <td id=\"T_fde3f260_f79a_11eb_9c0b_02420a397dearow8_col1\" class=\"data row8 col1\" >481</td>\n",
       "                        <td id=\"T_fde3f260_f79a_11eb_9c0b_02420a397dearow8_col2\" class=\"data row8 col2\" >623</td>\n",
       "            </tr>\n",
       "            <tr>\n",
       "                        <th id=\"T_fde3f260_f79a_11eb_9c0b_02420a397dealevel0_row9\" class=\"row_heading level0 row9\" >Shop 17</th>\n",
       "                        <td id=\"T_fde3f260_f79a_11eb_9c0b_02420a397dearow9_col0\" class=\"data row9 col0\" >664</td>\n",
       "                        <td id=\"T_fde3f260_f79a_11eb_9c0b_02420a397dearow9_col1\" class=\"data row9 col1\" >694</td>\n",
       "                        <td id=\"T_fde3f260_f79a_11eb_9c0b_02420a397dearow9_col2\" class=\"data row9 col2\" >820</td>\n",
       "            </tr>\n",
       "            <tr>\n",
       "                        <th id=\"T_fde3f260_f79a_11eb_9c0b_02420a397dealevel0_row10\" class=\"row_heading level0 row10\" >Shop 18</th>\n",
       "                        <td id=\"T_fde3f260_f79a_11eb_9c0b_02420a397dearow10_col0\" class=\"data row10 col0\" >906</td>\n",
       "                        <td id=\"T_fde3f260_f79a_11eb_9c0b_02420a397dearow10_col1\" class=\"data row10 col1\" >518</td>\n",
       "                        <td id=\"T_fde3f260_f79a_11eb_9c0b_02420a397dearow10_col2\" class=\"data row10 col2\" >598</td>\n",
       "            </tr>\n",
       "            <tr>\n",
       "                        <th id=\"T_fde3f260_f79a_11eb_9c0b_02420a397dealevel0_row11\" class=\"row_heading level0 row11\" >Shop 19</th>\n",
       "                        <td id=\"T_fde3f260_f79a_11eb_9c0b_02420a397dearow11_col0\" class=\"data row11 col0\" >852</td>\n",
       "                        <td id=\"T_fde3f260_f79a_11eb_9c0b_02420a397dearow11_col1\" class=\"data row11 col1\" >933</td>\n",
       "                        <td id=\"T_fde3f260_f79a_11eb_9c0b_02420a397dearow11_col2\" class=\"data row11 col2\" >457</td>\n",
       "            </tr>\n",
       "            <tr>\n",
       "                        <th id=\"T_fde3f260_f79a_11eb_9c0b_02420a397dealevel0_row12\" class=\"row_heading level0 row12\" >Shop 2</th>\n",
       "                        <td id=\"T_fde3f260_f79a_11eb_9c0b_02420a397dearow12_col0\" class=\"data row12 col0\" >1083</td>\n",
       "                        <td id=\"T_fde3f260_f79a_11eb_9c0b_02420a397dearow12_col1\" class=\"data row12 col1\" >625</td>\n",
       "                        <td id=\"T_fde3f260_f79a_11eb_9c0b_02420a397dearow12_col2\" class=\"data row12 col2\" >540</td>\n",
       "            </tr>\n",
       "            <tr>\n",
       "                        <th id=\"T_fde3f260_f79a_11eb_9c0b_02420a397dealevel0_row13\" class=\"row_heading level0 row13\" >Shop 20</th>\n",
       "                        <td id=\"T_fde3f260_f79a_11eb_9c0b_02420a397dearow13_col0\" class=\"data row13 col0\" >1003</td>\n",
       "                        <td id=\"T_fde3f260_f79a_11eb_9c0b_02420a397dearow13_col1\" class=\"data row13 col1\" >593</td>\n",
       "                        <td id=\"T_fde3f260_f79a_11eb_9c0b_02420a397dearow13_col2\" class=\"data row13 col2\" >839</td>\n",
       "            </tr>\n",
       "            <tr>\n",
       "                        <th id=\"T_fde3f260_f79a_11eb_9c0b_02420a397dealevel0_row14\" class=\"row_heading level0 row14\" >Shop 21</th>\n",
       "                        <td id=\"T_fde3f260_f79a_11eb_9c0b_02420a397dearow14_col0\" class=\"data row14 col0\" >636</td>\n",
       "                        <td id=\"T_fde3f260_f79a_11eb_9c0b_02420a397dearow14_col1\" class=\"data row14 col1\" >536</td>\n",
       "                        <td id=\"T_fde3f260_f79a_11eb_9c0b_02420a397dearow14_col2\" class=\"data row14 col2\" >496</td>\n",
       "            </tr>\n",
       "            <tr>\n",
       "                        <th id=\"T_fde3f260_f79a_11eb_9c0b_02420a397dealevel0_row15\" class=\"row_heading level0 row15\" >Shop 22</th>\n",
       "                        <td id=\"T_fde3f260_f79a_11eb_9c0b_02420a397dearow15_col0\" class=\"data row15 col0\" >861</td>\n",
       "                        <td id=\"T_fde3f260_f79a_11eb_9c0b_02420a397dearow15_col1\" class=\"data row15 col1\" >1127</td>\n",
       "                        <td id=\"T_fde3f260_f79a_11eb_9c0b_02420a397dearow15_col2\" class=\"data row15 col2\" >613</td>\n",
       "            </tr>\n",
       "            <tr>\n",
       "                        <th id=\"T_fde3f260_f79a_11eb_9c0b_02420a397dealevel0_row16\" class=\"row_heading level0 row16\" >Shop 23</th>\n",
       "                        <td id=\"T_fde3f260_f79a_11eb_9c0b_02420a397dearow16_col0\" class=\"data row16 col0\" >436</td>\n",
       "                        <td id=\"T_fde3f260_f79a_11eb_9c0b_02420a397dearow16_col1\" class=\"data row16 col1\" >1024</td>\n",
       "                        <td id=\"T_fde3f260_f79a_11eb_9c0b_02420a397dearow16_col2\" class=\"data row16 col2\" >617</td>\n",
       "            </tr>\n",
       "            <tr>\n",
       "                        <th id=\"T_fde3f260_f79a_11eb_9c0b_02420a397dealevel0_row17\" class=\"row_heading level0 row17\" >Shop 24</th>\n",
       "                        <td id=\"T_fde3f260_f79a_11eb_9c0b_02420a397dearow17_col0\" class=\"data row17 col0\" >892</td>\n",
       "                        <td id=\"T_fde3f260_f79a_11eb_9c0b_02420a397dearow17_col1\" class=\"data row17 col1\" >811</td>\n",
       "                        <td id=\"T_fde3f260_f79a_11eb_9c0b_02420a397dearow17_col2\" class=\"data row17 col2\" >953</td>\n",
       "            </tr>\n",
       "            <tr>\n",
       "                        <th id=\"T_fde3f260_f79a_11eb_9c0b_02420a397dealevel0_row18\" class=\"row_heading level0 row18\" >Shop 25</th>\n",
       "                        <td id=\"T_fde3f260_f79a_11eb_9c0b_02420a397dearow18_col0\" class=\"data row18 col0\" >708</td>\n",
       "                        <td id=\"T_fde3f260_f79a_11eb_9c0b_02420a397dearow18_col1\" class=\"data row18 col1\" >730</td>\n",
       "                        <td id=\"T_fde3f260_f79a_11eb_9c0b_02420a397dearow18_col2\" class=\"data row18 col2\" >497</td>\n",
       "            </tr>\n",
       "            <tr>\n",
       "                        <th id=\"T_fde3f260_f79a_11eb_9c0b_02420a397dealevel0_row19\" class=\"row_heading level0 row19\" >Shop 26</th>\n",
       "                        <td id=\"T_fde3f260_f79a_11eb_9c0b_02420a397dearow19_col0\" class=\"data row19 col0\" >1007</td>\n",
       "                        <td id=\"T_fde3f260_f79a_11eb_9c0b_02420a397dearow19_col1\" class=\"data row19 col1\" >734</td>\n",
       "                        <td id=\"T_fde3f260_f79a_11eb_9c0b_02420a397dearow19_col2\" class=\"data row19 col2\" >599</td>\n",
       "            </tr>\n",
       "            <tr>\n",
       "                        <th id=\"T_fde3f260_f79a_11eb_9c0b_02420a397dealevel0_row20\" class=\"row_heading level0 row20\" >Shop 27</th>\n",
       "                        <td id=\"T_fde3f260_f79a_11eb_9c0b_02420a397dearow20_col0\" class=\"data row20 col0\" >815</td>\n",
       "                        <td id=\"T_fde3f260_f79a_11eb_9c0b_02420a397dearow20_col1\" class=\"data row20 col1\" >982</td>\n",
       "                        <td id=\"T_fde3f260_f79a_11eb_9c0b_02420a397dearow20_col2\" class=\"data row20 col2\" >541</td>\n",
       "            </tr>\n",
       "            <tr>\n",
       "                        <th id=\"T_fde3f260_f79a_11eb_9c0b_02420a397dealevel0_row21\" class=\"row_heading level0 row21\" >Shop 28</th>\n",
       "                        <td id=\"T_fde3f260_f79a_11eb_9c0b_02420a397dearow21_col0\" class=\"data row21 col0\" >1086</td>\n",
       "                        <td id=\"T_fde3f260_f79a_11eb_9c0b_02420a397dearow21_col1\" class=\"data row21 col1\" >537</td>\n",
       "                        <td id=\"T_fde3f260_f79a_11eb_9c0b_02420a397dearow21_col2\" class=\"data row21 col2\" >701</td>\n",
       "            </tr>\n",
       "            <tr>\n",
       "                        <th id=\"T_fde3f260_f79a_11eb_9c0b_02420a397dealevel0_row22\" class=\"row_heading level0 row22\" >Shop 29</th>\n",
       "                        <td id=\"T_fde3f260_f79a_11eb_9c0b_02420a397dearow22_col0\" class=\"data row22 col0\" >757</td>\n",
       "                        <td id=\"T_fde3f260_f79a_11eb_9c0b_02420a397dearow22_col1\" class=\"data row22 col1\" >868</td>\n",
       "                        <td id=\"T_fde3f260_f79a_11eb_9c0b_02420a397dearow22_col2\" class=\"data row22 col2\" >577</td>\n",
       "            </tr>\n",
       "            <tr>\n",
       "                        <th id=\"T_fde3f260_f79a_11eb_9c0b_02420a397dealevel0_row23\" class=\"row_heading level0 row23\" >Shop 3</th>\n",
       "                        <td id=\"T_fde3f260_f79a_11eb_9c0b_02420a397dearow23_col0\" class=\"data row23 col0\" >575</td>\n",
       "                        <td id=\"T_fde3f260_f79a_11eb_9c0b_02420a397dearow23_col1\" class=\"data row23 col1\" >507</td>\n",
       "                        <td id=\"T_fde3f260_f79a_11eb_9c0b_02420a397dearow23_col2\" class=\"data row23 col2\" >650</td>\n",
       "            </tr>\n",
       "            <tr>\n",
       "                        <th id=\"T_fde3f260_f79a_11eb_9c0b_02420a397dealevel0_row24\" class=\"row_heading level0 row24\" >Shop 30</th>\n",
       "                        <td id=\"T_fde3f260_f79a_11eb_9c0b_02420a397dearow24_col0\" class=\"data row24 col0\" >938</td>\n",
       "                        <td id=\"T_fde3f260_f79a_11eb_9c0b_02420a397dearow24_col1\" class=\"data row24 col1\" >794</td>\n",
       "                        <td id=\"T_fde3f260_f79a_11eb_9c0b_02420a397dearow24_col2\" class=\"data row24 col2\" >663</td>\n",
       "            </tr>\n",
       "            <tr>\n",
       "                        <th id=\"T_fde3f260_f79a_11eb_9c0b_02420a397dealevel0_row25\" class=\"row_heading level0 row25\" >Shop 4</th>\n",
       "                        <td id=\"T_fde3f260_f79a_11eb_9c0b_02420a397dearow25_col0\" class=\"data row25 col0\" >518</td>\n",
       "                        <td id=\"T_fde3f260_f79a_11eb_9c0b_02420a397dearow25_col1\" class=\"data row25 col1\" >787</td>\n",
       "                        <td id=\"T_fde3f260_f79a_11eb_9c0b_02420a397dearow25_col2\" class=\"data row25 col2\" >663</td>\n",
       "            </tr>\n",
       "            <tr>\n",
       "                        <th id=\"T_fde3f260_f79a_11eb_9c0b_02420a397dealevel0_row26\" class=\"row_heading level0 row26\" >Shop 5</th>\n",
       "                        <td id=\"T_fde3f260_f79a_11eb_9c0b_02420a397dearow26_col0\" class=\"data row26 col0\" >964</td>\n",
       "                        <td id=\"T_fde3f260_f79a_11eb_9c0b_02420a397dearow26_col1\" class=\"data row26 col1\" >750</td>\n",
       "                        <td id=\"T_fde3f260_f79a_11eb_9c0b_02420a397dearow26_col2\" class=\"data row26 col2\" >796</td>\n",
       "            </tr>\n",
       "            <tr>\n",
       "                        <th id=\"T_fde3f260_f79a_11eb_9c0b_02420a397dealevel0_row27\" class=\"row_heading level0 row27\" >Shop 6</th>\n",
       "                        <td id=\"T_fde3f260_f79a_11eb_9c0b_02420a397dearow27_col0\" class=\"data row27 col0\" >711</td>\n",
       "                        <td id=\"T_fde3f260_f79a_11eb_9c0b_02420a397dearow27_col1\" class=\"data row27 col1\" >372</td>\n",
       "                        <td id=\"T_fde3f260_f79a_11eb_9c0b_02420a397dearow27_col2\" class=\"data row27 col2\" >611</td>\n",
       "            </tr>\n",
       "            <tr>\n",
       "                        <th id=\"T_fde3f260_f79a_11eb_9c0b_02420a397dealevel0_row28\" class=\"row_heading level0 row28\" >Shop 7</th>\n",
       "                        <td id=\"T_fde3f260_f79a_11eb_9c0b_02420a397dearow28_col0\" class=\"data row28 col0\" >916</td>\n",
       "                        <td id=\"T_fde3f260_f79a_11eb_9c0b_02420a397dearow28_col1\" class=\"data row28 col1\" >889</td>\n",
       "                        <td id=\"T_fde3f260_f79a_11eb_9c0b_02420a397dearow28_col2\" class=\"data row28 col2\" >563</td>\n",
       "            </tr>\n",
       "            <tr>\n",
       "                        <th id=\"T_fde3f260_f79a_11eb_9c0b_02420a397dealevel0_row29\" class=\"row_heading level0 row29\" >Shop 8</th>\n",
       "                        <td id=\"T_fde3f260_f79a_11eb_9c0b_02420a397dearow29_col0\" class=\"data row29 col0\" >815</td>\n",
       "                        <td id=\"T_fde3f260_f79a_11eb_9c0b_02420a397dearow29_col1\" class=\"data row29 col1\" >487</td>\n",
       "                        <td id=\"T_fde3f260_f79a_11eb_9c0b_02420a397dearow29_col2\" class=\"data row29 col2\" >683</td>\n",
       "            </tr>\n",
       "            <tr>\n",
       "                        <th id=\"T_fde3f260_f79a_11eb_9c0b_02420a397dealevel0_row30\" class=\"row_heading level0 row30\" >Shop 9</th>\n",
       "                        <td id=\"T_fde3f260_f79a_11eb_9c0b_02420a397dearow30_col0\" class=\"data row30 col0\" >1048</td>\n",
       "                        <td id=\"T_fde3f260_f79a_11eb_9c0b_02420a397dearow30_col1\" class=\"data row30 col1\" >722</td>\n",
       "                        <td id=\"T_fde3f260_f79a_11eb_9c0b_02420a397dearow30_col2\" class=\"data row30 col2\" >726</td>\n",
       "            </tr>\n",
       "    </tbody></table>"
      ],
      "text/plain": [
       "<pandas.io.formats.style.Styler at 0x7f8208e22410>"
      ]
     },
     "execution_count": 22,
     "metadata": {},
     "output_type": "execute_result"
    }
   ],
   "source": [
    "#calculating the amount of purchases per month per store\n",
    "\n",
    "purchases_per_month = retail_us.pivot_table(\n",
    "    index='shop_id',\n",
    "    columns='purchase_month',\n",
    "    aggfunc=({'purchase_id': 'count'})\n",
    ") \n",
    "\n",
    "purchases_per_month.style.highlight_max(color='#90EE90')\\\n",
    "                .highlight_min(color='#cd4f39')"
   ]
  },
  {
   "cell_type": "markdown",
   "metadata": {},
   "source": [
    "##### Conclusions\n",
    "\n",
    "It is interesting to see that **Shop 0** is a leader in terms of purchases per month for every month that is present in the dataset.\n",
    "\n",
    "It is also worth mentioning that shop 0 has one of the lowest amount of loyal customers. We can speculate than that **participation in the loyalty program does not necessary equal the biggest amount of purchases**.\n",
    "\n",
    "We also see **the shops with the lowest amount of purchases per month**. These are:\n",
    "\n",
    "- Shop 23 (2016-12-01)\n",
    "- Shop 6 (2017-01-01)\n",
    "- Shop 12 (2017-02-01)\n",
    "\n",
    "Interesting to see there is no shop that performs consistently low month after month. This is a good sign, as it shows that there is no shop with big problems, purchases wise. The reason for these shops to perform low in given months might be **seasonality**.\n",
    "\n",
    "Regarding Shop 0, that is an absolute leader in terms of purchases, we can speculate it might have been caused by **location**. Perhaps, this shop is located in a big city."
   ]
  },
  {
   "cell_type": "markdown",
   "metadata": {},
   "source": [
    "### Calculating the average amount of items purchased per customer (loyal and non-loyal)"
   ]
  },
  {
   "cell_type": "code",
   "execution_count": 23,
   "metadata": {},
   "outputs": [
    {
     "name": "stdout",
     "output_type": "stream",
     "text": [
      "The average amount of items purchased by loyal customers is\n",
      "quantity    40.616695\n",
      "dtype: float64\n"
     ]
    }
   ],
   "source": [
    "#looking at the average amount of items purchased per loyal customers\n",
    "\n",
    "average_items_loyal = loyalty_program_yes.groupby(['customer_id']).agg({'quantity': 'count'}).mean()\n",
    "\n",
    "print(\"The average amount of items purchased by loyal customers is\")\n",
    "print(average_items_loyal)"
   ]
  },
  {
   "cell_type": "code",
   "execution_count": 24,
   "metadata": {},
   "outputs": [
    {
     "name": "stdout",
     "output_type": "stream",
     "text": [
      "The average amount of items purchased by non-loyal customers is\n",
      "quantity    70.071367\n",
      "dtype: float64\n"
     ]
    }
   ],
   "source": [
    "#looking at the average amount of items purchased per non-loyal customers\n",
    "\n",
    "average_items_non_loyal = loyalty_program_no.groupby(['customer_id']).agg({'quantity': 'count'}).mean()\n",
    "\n",
    "print(\"The average amount of items purchased by non-loyal customers is\")\n",
    "print(average_items_non_loyal)"
   ]
  },
  {
   "cell_type": "markdown",
   "metadata": {},
   "source": [
    "##### Conclusions\n",
    "\n",
    "It is interesting to see that non-loyal customers tend to buy more than loyal ones. Perhaps, the loyalty program participants tend to buy less but their average purchase size is bigger. \n",
    "\n",
    "We will also calculate the average amount of items purchased per store."
   ]
  },
  {
   "cell_type": "markdown",
   "metadata": {},
   "source": [
    "### Calculating the average amount of items purchased per store"
   ]
  },
  {
   "cell_type": "code",
   "execution_count": 25,
   "metadata": {},
   "outputs": [
    {
     "data": {
      "text/html": [
       "<style  type=\"text/css\" >\n",
       "    #T_fe066ce6_f79a_11eb_9c0b_02420a397dearow0_col0 {\n",
       "            background-color:  #90EE90;\n",
       "            : ;\n",
       "        }    #T_fe066ce6_f79a_11eb_9c0b_02420a397dearow14_col0 {\n",
       "            : ;\n",
       "            background-color:  #cd4f39;\n",
       "        }</style><table id=\"T_fe066ce6_f79a_11eb_9c0b_02420a397dea\" ><thead>    <tr>        <th class=\"blank level0\" ></th>        <th class=\"col_heading level0 col0\" >quantity</th>    </tr>    <tr>        <th class=\"index_name level0\" >shop_id</th>        <th class=\"blank\" ></th>    </tr></thead><tbody>\n",
       "                <tr>\n",
       "                        <th id=\"T_fe066ce6_f79a_11eb_9c0b_02420a397dealevel0_row0\" class=\"row_heading level0 row0\" >Shop 0</th>\n",
       "                        <td id=\"T_fe066ce6_f79a_11eb_9c0b_02420a397dearow0_col0\" class=\"data row0 col0\" >38389</td>\n",
       "            </tr>\n",
       "            <tr>\n",
       "                        <th id=\"T_fe066ce6_f79a_11eb_9c0b_02420a397dealevel0_row1\" class=\"row_heading level0 row1\" >Shop 1</th>\n",
       "                        <td id=\"T_fe066ce6_f79a_11eb_9c0b_02420a397dearow1_col0\" class=\"data row1 col0\" >2744</td>\n",
       "            </tr>\n",
       "            <tr>\n",
       "                        <th id=\"T_fe066ce6_f79a_11eb_9c0b_02420a397dealevel0_row2\" class=\"row_heading level0 row2\" >Shop 10</th>\n",
       "                        <td id=\"T_fe066ce6_f79a_11eb_9c0b_02420a397dearow2_col0\" class=\"data row2 col0\" >2204</td>\n",
       "            </tr>\n",
       "            <tr>\n",
       "                        <th id=\"T_fe066ce6_f79a_11eb_9c0b_02420a397dealevel0_row3\" class=\"row_heading level0 row3\" >Shop 11</th>\n",
       "                        <td id=\"T_fe066ce6_f79a_11eb_9c0b_02420a397dearow3_col0\" class=\"data row3 col0\" >2301</td>\n",
       "            </tr>\n",
       "            <tr>\n",
       "                        <th id=\"T_fe066ce6_f79a_11eb_9c0b_02420a397dealevel0_row4\" class=\"row_heading level0 row4\" >Shop 12</th>\n",
       "                        <td id=\"T_fe066ce6_f79a_11eb_9c0b_02420a397dearow4_col0\" class=\"data row4 col0\" >1786</td>\n",
       "            </tr>\n",
       "            <tr>\n",
       "                        <th id=\"T_fe066ce6_f79a_11eb_9c0b_02420a397dealevel0_row5\" class=\"row_heading level0 row5\" >Shop 13</th>\n",
       "                        <td id=\"T_fe066ce6_f79a_11eb_9c0b_02420a397dearow5_col0\" class=\"data row5 col0\" >2448</td>\n",
       "            </tr>\n",
       "            <tr>\n",
       "                        <th id=\"T_fe066ce6_f79a_11eb_9c0b_02420a397dealevel0_row6\" class=\"row_heading level0 row6\" >Shop 14</th>\n",
       "                        <td id=\"T_fe066ce6_f79a_11eb_9c0b_02420a397dearow6_col0\" class=\"data row6 col0\" >2400</td>\n",
       "            </tr>\n",
       "            <tr>\n",
       "                        <th id=\"T_fe066ce6_f79a_11eb_9c0b_02420a397dealevel0_row7\" class=\"row_heading level0 row7\" >Shop 15</th>\n",
       "                        <td id=\"T_fe066ce6_f79a_11eb_9c0b_02420a397dearow7_col0\" class=\"data row7 col0\" >2710</td>\n",
       "            </tr>\n",
       "            <tr>\n",
       "                        <th id=\"T_fe066ce6_f79a_11eb_9c0b_02420a397dealevel0_row8\" class=\"row_heading level0 row8\" >Shop 16</th>\n",
       "                        <td id=\"T_fe066ce6_f79a_11eb_9c0b_02420a397dearow8_col0\" class=\"data row8 col0\" >1939</td>\n",
       "            </tr>\n",
       "            <tr>\n",
       "                        <th id=\"T_fe066ce6_f79a_11eb_9c0b_02420a397dealevel0_row9\" class=\"row_heading level0 row9\" >Shop 17</th>\n",
       "                        <td id=\"T_fe066ce6_f79a_11eb_9c0b_02420a397dearow9_col0\" class=\"data row9 col0\" >2178</td>\n",
       "            </tr>\n",
       "            <tr>\n",
       "                        <th id=\"T_fe066ce6_f79a_11eb_9c0b_02420a397dealevel0_row10\" class=\"row_heading level0 row10\" >Shop 18</th>\n",
       "                        <td id=\"T_fe066ce6_f79a_11eb_9c0b_02420a397dearow10_col0\" class=\"data row10 col0\" >2022</td>\n",
       "            </tr>\n",
       "            <tr>\n",
       "                        <th id=\"T_fe066ce6_f79a_11eb_9c0b_02420a397dealevel0_row11\" class=\"row_heading level0 row11\" >Shop 19</th>\n",
       "                        <td id=\"T_fe066ce6_f79a_11eb_9c0b_02420a397dearow11_col0\" class=\"data row11 col0\" >2242</td>\n",
       "            </tr>\n",
       "            <tr>\n",
       "                        <th id=\"T_fe066ce6_f79a_11eb_9c0b_02420a397dealevel0_row12\" class=\"row_heading level0 row12\" >Shop 2</th>\n",
       "                        <td id=\"T_fe066ce6_f79a_11eb_9c0b_02420a397dearow12_col0\" class=\"data row12 col0\" >2248</td>\n",
       "            </tr>\n",
       "            <tr>\n",
       "                        <th id=\"T_fe066ce6_f79a_11eb_9c0b_02420a397dealevel0_row13\" class=\"row_heading level0 row13\" >Shop 20</th>\n",
       "                        <td id=\"T_fe066ce6_f79a_11eb_9c0b_02420a397dearow13_col0\" class=\"data row13 col0\" >2435</td>\n",
       "            </tr>\n",
       "            <tr>\n",
       "                        <th id=\"T_fe066ce6_f79a_11eb_9c0b_02420a397dealevel0_row14\" class=\"row_heading level0 row14\" >Shop 21</th>\n",
       "                        <td id=\"T_fe066ce6_f79a_11eb_9c0b_02420a397dearow14_col0\" class=\"data row14 col0\" >1668</td>\n",
       "            </tr>\n",
       "            <tr>\n",
       "                        <th id=\"T_fe066ce6_f79a_11eb_9c0b_02420a397dealevel0_row15\" class=\"row_heading level0 row15\" >Shop 22</th>\n",
       "                        <td id=\"T_fe066ce6_f79a_11eb_9c0b_02420a397dearow15_col0\" class=\"data row15 col0\" >2601</td>\n",
       "            </tr>\n",
       "            <tr>\n",
       "                        <th id=\"T_fe066ce6_f79a_11eb_9c0b_02420a397dealevel0_row16\" class=\"row_heading level0 row16\" >Shop 23</th>\n",
       "                        <td id=\"T_fe066ce6_f79a_11eb_9c0b_02420a397dearow16_col0\" class=\"data row16 col0\" >2077</td>\n",
       "            </tr>\n",
       "            <tr>\n",
       "                        <th id=\"T_fe066ce6_f79a_11eb_9c0b_02420a397dealevel0_row17\" class=\"row_heading level0 row17\" >Shop 24</th>\n",
       "                        <td id=\"T_fe066ce6_f79a_11eb_9c0b_02420a397dearow17_col0\" class=\"data row17 col0\" >2656</td>\n",
       "            </tr>\n",
       "            <tr>\n",
       "                        <th id=\"T_fe066ce6_f79a_11eb_9c0b_02420a397dealevel0_row18\" class=\"row_heading level0 row18\" >Shop 25</th>\n",
       "                        <td id=\"T_fe066ce6_f79a_11eb_9c0b_02420a397dearow18_col0\" class=\"data row18 col0\" >1935</td>\n",
       "            </tr>\n",
       "            <tr>\n",
       "                        <th id=\"T_fe066ce6_f79a_11eb_9c0b_02420a397dealevel0_row19\" class=\"row_heading level0 row19\" >Shop 26</th>\n",
       "                        <td id=\"T_fe066ce6_f79a_11eb_9c0b_02420a397dearow19_col0\" class=\"data row19 col0\" >2340</td>\n",
       "            </tr>\n",
       "            <tr>\n",
       "                        <th id=\"T_fe066ce6_f79a_11eb_9c0b_02420a397dealevel0_row20\" class=\"row_heading level0 row20\" >Shop 27</th>\n",
       "                        <td id=\"T_fe066ce6_f79a_11eb_9c0b_02420a397dearow20_col0\" class=\"data row20 col0\" >2338</td>\n",
       "            </tr>\n",
       "            <tr>\n",
       "                        <th id=\"T_fe066ce6_f79a_11eb_9c0b_02420a397dealevel0_row21\" class=\"row_heading level0 row21\" >Shop 28</th>\n",
       "                        <td id=\"T_fe066ce6_f79a_11eb_9c0b_02420a397dearow21_col0\" class=\"data row21 col0\" >2324</td>\n",
       "            </tr>\n",
       "            <tr>\n",
       "                        <th id=\"T_fe066ce6_f79a_11eb_9c0b_02420a397dealevel0_row22\" class=\"row_heading level0 row22\" >Shop 29</th>\n",
       "                        <td id=\"T_fe066ce6_f79a_11eb_9c0b_02420a397dearow22_col0\" class=\"data row22 col0\" >2202</td>\n",
       "            </tr>\n",
       "            <tr>\n",
       "                        <th id=\"T_fe066ce6_f79a_11eb_9c0b_02420a397dealevel0_row23\" class=\"row_heading level0 row23\" >Shop 3</th>\n",
       "                        <td id=\"T_fe066ce6_f79a_11eb_9c0b_02420a397dearow23_col0\" class=\"data row23 col0\" >1732</td>\n",
       "            </tr>\n",
       "            <tr>\n",
       "                        <th id=\"T_fe066ce6_f79a_11eb_9c0b_02420a397dealevel0_row24\" class=\"row_heading level0 row24\" >Shop 30</th>\n",
       "                        <td id=\"T_fe066ce6_f79a_11eb_9c0b_02420a397dearow24_col0\" class=\"data row24 col0\" >2395</td>\n",
       "            </tr>\n",
       "            <tr>\n",
       "                        <th id=\"T_fe066ce6_f79a_11eb_9c0b_02420a397dealevel0_row25\" class=\"row_heading level0 row25\" >Shop 4</th>\n",
       "                        <td id=\"T_fe066ce6_f79a_11eb_9c0b_02420a397dearow25_col0\" class=\"data row25 col0\" >1968</td>\n",
       "            </tr>\n",
       "            <tr>\n",
       "                        <th id=\"T_fe066ce6_f79a_11eb_9c0b_02420a397dealevel0_row26\" class=\"row_heading level0 row26\" >Shop 5</th>\n",
       "                        <td id=\"T_fe066ce6_f79a_11eb_9c0b_02420a397dearow26_col0\" class=\"data row26 col0\" >2510</td>\n",
       "            </tr>\n",
       "            <tr>\n",
       "                        <th id=\"T_fe066ce6_f79a_11eb_9c0b_02420a397dealevel0_row27\" class=\"row_heading level0 row27\" >Shop 6</th>\n",
       "                        <td id=\"T_fe066ce6_f79a_11eb_9c0b_02420a397dearow27_col0\" class=\"data row27 col0\" >1694</td>\n",
       "            </tr>\n",
       "            <tr>\n",
       "                        <th id=\"T_fe066ce6_f79a_11eb_9c0b_02420a397dealevel0_row28\" class=\"row_heading level0 row28\" >Shop 7</th>\n",
       "                        <td id=\"T_fe066ce6_f79a_11eb_9c0b_02420a397dearow28_col0\" class=\"data row28 col0\" >2368</td>\n",
       "            </tr>\n",
       "            <tr>\n",
       "                        <th id=\"T_fe066ce6_f79a_11eb_9c0b_02420a397dealevel0_row29\" class=\"row_heading level0 row29\" >Shop 8</th>\n",
       "                        <td id=\"T_fe066ce6_f79a_11eb_9c0b_02420a397dearow29_col0\" class=\"data row29 col0\" >1985</td>\n",
       "            </tr>\n",
       "            <tr>\n",
       "                        <th id=\"T_fe066ce6_f79a_11eb_9c0b_02420a397dealevel0_row30\" class=\"row_heading level0 row30\" >Shop 9</th>\n",
       "                        <td id=\"T_fe066ce6_f79a_11eb_9c0b_02420a397dearow30_col0\" class=\"data row30 col0\" >2496</td>\n",
       "            </tr>\n",
       "    </tbody></table>"
      ],
      "text/plain": [
       "<pandas.io.formats.style.Styler at 0x7f820957da90>"
      ]
     },
     "execution_count": 25,
     "metadata": {},
     "output_type": "execute_result"
    }
   ],
   "source": [
    "items_per_store = retail_us.pivot_table(\n",
    "    index='shop_id',\n",
    "    aggfunc=({'quantity': 'count'})\n",
    ") \n",
    "\n",
    "items_per_store.style.highlight_max(color='#90EE90')\\\n",
    "                .highlight_min(color='#cd4f39')"
   ]
  },
  {
   "cell_type": "code",
   "execution_count": 26,
   "metadata": {},
   "outputs": [
    {
     "data": {
      "image/png": "[encoded data removed]",
      "text/plain": [
       "<Figure size 432x288 with 1 Axes>"
      ]
     },
     "metadata": {
      "needs_background": "light"
     },
     "output_type": "display_data"
    }
   ],
   "source": [
    "#plotting the graph\n",
    "\n",
    "items_per_store.plot(kind=\"bar\", grid=True)\n",
    "plt.title(\"The Amount of Items Purchased Per Store\")\n",
    "plt.xlabel(\"Shop\")\n",
    "plt.ylabel(\"Number of Items\")\n",
    "plt.show()"
   ]
  },
  {
   "cell_type": "markdown",
   "metadata": {},
   "source": [
    "##### Conclusions\n",
    "\n",
    "Once again, Shop 0 shows an unusual amount of items purchased, compared to other shops. Is this an unusually successful shop, or is it an outlier?"
   ]
  },
  {
   "cell_type": "markdown",
   "metadata": {},
   "source": [
    "### Assessing the performance of the sales outlets: conclusion\n",
    "\n",
    "Here are our conclusions after accessing the performance of the sales outlets:\n",
    "\n",
    "- Generally, there are less members of the loyalty program. \n",
    "- We see that the amount of customers per shop are distributed quite evenly. We can speculate it means the following: all shops in the chain perform quite well in terms of the amount of customers and we do not see any downdogs here.\n",
    "- We see there is no shop that performs consistently low month after month. This is a good sign, as it shows that there is no shop with big problems, purchases wise. The reason for these shops to perform low in given months might be seasonality.\n",
    "- It is interesting to see that non-loyal customers tend to buy more than loyal ones. Perhaps, the loyalty program participants tend to buy less but their average purchase size is bigger.\n",
    "\n",
    "\n",
    "We also see that **Shop 0** is unusually successful in terms of purchases. The question is, is this shop definitely so successful, or is there a mistake in the data?"
   ]
  },
  {
   "cell_type": "markdown",
   "metadata": {},
   "source": [
    "## Testing Statistical Hypotheses\n",
    "\n",
    "We will focus on the following hypotheses:\n",
    "\n",
    "- [x] Loyalty program members tend to buy more often.\n",
    "- [x] Shop with bigger amount of loyal customers have more purchases per month."
   ]
  },
  {
   "cell_type": "markdown",
   "metadata": {},
   "source": [
    "### Hypothesis 1: loyalty program members tend to buy more often\n",
    "\n",
    "**Null Hypothesis:** loyalty program members tend to buy more often.\n",
    "\n",
    "**Alternative Hypothesis:** loyalty program members do not tend to buy more often.\n",
    "\n",
    "We also want a 99% confidence. It makes our alpha value 0.01."
   ]
  },
  {
   "cell_type": "code",
   "execution_count": 27,
   "metadata": {},
   "outputs": [],
   "source": [
    "#finding out the average frequency of purchases for loyal and non-loyal customers\n",
    "\n",
    "frequency_loyal_yes = loyalty_program_yes.groupby(['purchase_month']).agg({'purchase_id': 'count'}).mean()\n",
    "frequency_loyal_no = loyalty_program_no.groupby(['purchase_month']).agg({'purchase_id': 'count'}).mean()"
   ]
  },
  {
   "cell_type": "code",
   "execution_count": 28,
   "metadata": {},
   "outputs": [
    {
     "name": "stdout",
     "output_type": "stream",
     "text": [
      "p-value:  nan\n",
      "We can not reject the null hypothesis\n"
     ]
    }
   ],
   "source": [
    "#testing the hypothesis using the obtained samples\n",
    "\n",
    "alpha = 0.01\n",
    "\n",
    "frequency = st.ttest_ind(frequency_loyal_yes, frequency_loyal_no, nan_policy='omit')\n",
    "\n",
    "print('p-value: ', frequency.pvalue)\n",
    "\n",
    "if (frequency.pvalue < alpha):\n",
    "        print('We reject the null hypothesis')\n",
    "else:\n",
    "    print('We can not reject the null hypothesis')"
   ]
  },
  {
   "cell_type": "markdown",
   "metadata": {},
   "source": [
    "##### Conclusions\n",
    "\n",
    "Based on the test, we can not reject the null hypothesis that loyalty program members tend to buy more often."
   ]
  },
  {
   "cell_type": "markdown",
   "metadata": {},
   "source": [
    "### Hypothesis 2: Shop with bigger amount of loyal customers has more purchases per month\n",
    "\n",
    "**Formulating null and alternative hypotheses for the following statement: shop with bigger amount of loyal customers has more purchases per month.**\n",
    "\n",
    "1. **Null Hypothesis**: Shop with bigger amount of loyal customers have more purchases per month.\n",
    "\n",
    "2. **Alternative Hypothesis**: Shop with bigger amount of loyal customers do not have more purchases per month.\n",
    "\n",
    "We also want a 99% confidence. It makes our alpha value 0.01.\n",
    "\n",
    "For this, we will look at a sample from the shop with the biggest and the smallest amount of loyal customers."
   ]
  },
  {
   "cell_type": "code",
   "execution_count": 29,
   "metadata": {},
   "outputs": [],
   "source": [
    "#obtaining the dataframe for shop with the lowest and the highest amount of loyal customers\n",
    "\n",
    "loyal_customers_highest = retail_us[retail_us['shop_id']==\"Shop 13\"]\n",
    "loyal_customers_lowest = retail_us[retail_us['shop_id']==\"Shop 9\"]"
   ]
  },
  {
   "cell_type": "code",
   "execution_count": 30,
   "metadata": {},
   "outputs": [],
   "source": [
    "#finding out the average amount of purchases per shop\n",
    "\n",
    "purchases_amount_yes = loyal_customers_highest.groupby(['customer_id']).agg({'purchase_id': 'count'}).mean()\n",
    "purchases_amount_no = loyal_customers_lowest.groupby(['customer_id']).agg({'purchase_id': 'count'}).mean()"
   ]
  },
  {
   "cell_type": "code",
   "execution_count": 31,
   "metadata": {},
   "outputs": [
    {
     "name": "stdout",
     "output_type": "stream",
     "text": [
      "p-value:  nan\n",
      "We can not reject the null hypothesis\n"
     ]
    }
   ],
   "source": [
    "#testing the hypothesis using the obtained samples\n",
    "\n",
    "alpha = 0.01\n",
    "\n",
    "amount = st.ttest_ind(purchases_amount_yes, purchases_amount_no, nan_policy='omit')\n",
    "\n",
    "print('p-value: ', amount.pvalue)\n",
    "\n",
    "if (amount.pvalue < alpha):\n",
    "        print('We reject the null hypothesis')\n",
    "else:\n",
    "    print('We can not reject the null hypothesis')"
   ]
  },
  {
   "cell_type": "markdown",
   "metadata": {},
   "source": [
    "##### Conclusions\n",
    "\n",
    "Based on the test, we can not reject the null hypothesis that shop with bigger amount of loyal customers has more purchases per month."
   ]
  },
  {
   "cell_type": "markdown",
   "metadata": {},
   "source": [
    "## Overall Conclusion\n",
    "\n",
    "After analysing the outlet chain performance and testing hypotheses, we can make the following **conclusions**:\n",
    "\n",
    "- Generally, there are less members of the loyalty program.\n",
    "- We see that the amount of customers per shop are distributed quite evenly. We can speculate it means the following: all shops in the chain perform quite well in terms of the amount of customers and we do not see any downdogs here.\n",
    "- We see there is no shop that performs consistently low month after month. This is a good sign, as it shows that there is no shop with big problems, purchases wise. The reason for these shops to perform low in given months might be seasonality.\n",
    "- It is interesting to see that non-loyal customers tend to buy more than loyal ones. Perhaps, the loyalty program participants tend to buy less but their average purchase size is bigger.\n",
    "- We also can not reject the following hypotheses: loyalty program members tend to buy more often and shop with bigger amount of loyal customers has more purchases per month.\n",
    "\n",
    "Therefore, we might suggest to **expand the loyalty program** and try to cover more customers with it."
   ]
  }
 ],
 "metadata": {
  "ExecuteTimeLog": [
   {
    "duration": 1822,
    "start_time": "2021-08-01T14:54:29.705Z"
   },
   {
    "duration": 1967,
    "start_time": "2021-08-01T14:55:11.606Z"
   },
   {
    "duration": 2400,
    "start_time": "2021-08-01T14:55:16.229Z"
   },
   {
    "duration": 89,
    "start_time": "2021-08-01T15:29:33.957Z"
   },
   {
    "duration": 96,
    "start_time": "2021-08-01T15:29:48.179Z"
   },
   {
    "duration": 392,
    "start_time": "2021-08-01T15:29:59.262Z"
   },
   {
    "duration": 1872,
    "start_time": "2021-08-01T15:34:52.112Z"
   },
   {
    "duration": 207,
    "start_time": "2021-08-01T15:35:04.700Z"
   },
   {
    "duration": 290,
    "start_time": "2021-08-01T15:35:55.496Z"
   },
   {
    "duration": 172,
    "start_time": "2021-08-01T15:35:59.811Z"
   },
   {
    "duration": 112,
    "start_time": "2021-08-01T15:36:57.354Z"
   },
   {
    "duration": 211,
    "start_time": "2021-08-02T06:44:53.348Z"
   },
   {
    "duration": 1426,
    "start_time": "2021-08-02T06:44:58.658Z"
   },
   {
    "duration": 125,
    "start_time": "2021-08-02T06:45:00.086Z"
   },
   {
    "duration": 48,
    "start_time": "2021-08-02T06:45:00.212Z"
   },
   {
    "duration": 2,
    "start_time": "2021-08-02T06:45:00.262Z"
   },
   {
    "duration": 3,
    "start_time": "2021-08-02T06:53:08.733Z"
   },
   {
    "duration": 317,
    "start_time": "2021-08-02T08:27:09.271Z"
   },
   {
    "duration": 1844,
    "start_time": "2021-08-02T08:27:25.838Z"
   },
   {
    "duration": 260,
    "start_time": "2021-08-02T08:27:27.684Z"
   },
   {
    "duration": 75,
    "start_time": "2021-08-02T08:27:27.951Z"
   },
   {
    "duration": 4,
    "start_time": "2021-08-02T08:27:28.030Z"
   },
   {
    "duration": 6579,
    "start_time": "2021-08-02T08:27:28.037Z"
   },
   {
    "duration": 1716,
    "start_time": "2021-08-02T08:39:29.754Z"
   },
   {
    "duration": 1717,
    "start_time": "2021-08-02T08:39:47.804Z"
   },
   {
    "duration": 1684,
    "start_time": "2021-08-02T08:39:58.278Z"
   },
   {
    "duration": 353,
    "start_time": "2021-08-02T08:40:20.248Z"
   },
   {
    "duration": 253,
    "start_time": "2021-08-02T08:40:35.423Z"
   },
   {
    "duration": 237,
    "start_time": "2021-08-02T08:40:41.264Z"
   },
   {
    "duration": 326,
    "start_time": "2021-08-02T08:40:50.660Z"
   },
   {
    "duration": 39,
    "start_time": "2021-08-02T08:40:57.732Z"
   },
   {
    "duration": 572,
    "start_time": "2021-08-02T08:41:39.116Z"
   },
   {
    "duration": 317,
    "start_time": "2021-08-02T08:41:47.444Z"
   },
   {
    "duration": 30,
    "start_time": "2021-08-02T08:41:51.829Z"
   },
   {
    "duration": 478,
    "start_time": "2021-08-02T08:43:13.172Z"
   },
   {
    "duration": 396,
    "start_time": "2021-08-02T08:43:34.476Z"
   },
   {
    "duration": 16,
    "start_time": "2021-08-02T08:43:36.854Z"
   },
   {
    "duration": 2193,
    "start_time": "2021-08-02T08:44:34.362Z"
   },
   {
    "duration": 2788,
    "start_time": "2021-08-02T08:44:43.280Z"
   },
   {
    "duration": 349,
    "start_time": "2021-08-02T08:44:48.334Z"
   },
   {
    "duration": 11,
    "start_time": "2021-08-02T08:44:50.150Z"
   },
   {
    "duration": 60,
    "start_time": "2021-08-02T08:44:53.315Z"
   },
   {
    "duration": 15,
    "start_time": "2021-08-02T08:47:18.732Z"
   },
   {
    "duration": 17,
    "start_time": "2021-08-02T08:56:49.208Z"
   },
   {
    "duration": 47,
    "start_time": "2021-08-02T08:57:35.582Z"
   },
   {
    "duration": 45,
    "start_time": "2021-08-02T08:57:48.728Z"
   },
   {
    "duration": 45,
    "start_time": "2021-08-02T08:58:08.832Z"
   },
   {
    "duration": 44,
    "start_time": "2021-08-02T08:58:30.955Z"
   },
   {
    "duration": 46,
    "start_time": "2021-08-02T08:59:58.853Z"
   },
   {
    "duration": 46,
    "start_time": "2021-08-02T09:00:27.226Z"
   },
   {
    "duration": 46,
    "start_time": "2021-08-02T09:00:33.913Z"
   },
   {
    "duration": 45,
    "start_time": "2021-08-02T09:01:00.318Z"
   },
   {
    "duration": 45,
    "start_time": "2021-08-02T09:01:38.624Z"
   },
   {
    "duration": 108,
    "start_time": "2021-08-02T09:02:18.618Z"
   },
   {
    "duration": 38,
    "start_time": "2021-08-02T09:12:41.235Z"
   },
   {
    "duration": 174,
    "start_time": "2021-08-02T09:13:11.073Z"
   },
   {
    "duration": 1864,
    "start_time": "2021-08-02T09:13:16.700Z"
   },
   {
    "duration": 188,
    "start_time": "2021-08-02T09:13:18.567Z"
   },
   {
    "duration": 92,
    "start_time": "2021-08-02T09:13:18.758Z"
   },
   {
    "duration": 18,
    "start_time": "2021-08-02T09:13:18.853Z"
   },
   {
    "duration": 469,
    "start_time": "2021-08-02T09:13:18.874Z"
   },
   {
    "duration": 23,
    "start_time": "2021-08-02T09:13:19.346Z"
   },
   {
    "duration": 18,
    "start_time": "2021-08-02T09:13:19.372Z"
   },
   {
    "duration": 76,
    "start_time": "2021-08-02T09:13:19.402Z"
   },
   {
    "duration": 45,
    "start_time": "2021-08-02T09:13:19.483Z"
   },
   {
    "duration": 75,
    "start_time": "2021-08-02T09:13:19.530Z"
   },
   {
    "duration": 125,
    "start_time": "2021-08-02T09:13:19.607Z"
   },
   {
    "duration": 42,
    "start_time": "2021-08-02T09:13:19.734Z"
   },
   {
    "duration": 460,
    "start_time": "2021-08-02T09:15:33.668Z"
   },
   {
    "duration": 261,
    "start_time": "2021-08-02T09:15:49.666Z"
   },
   {
    "duration": 17,
    "start_time": "2021-08-02T09:17:19.455Z"
   },
   {
    "duration": 15,
    "start_time": "2021-08-02T09:17:24.750Z"
   },
   {
    "duration": 169,
    "start_time": "2021-08-02T09:21:37.787Z"
   },
   {
    "duration": 1814,
    "start_time": "2021-08-02T09:21:44.379Z"
   },
   {
    "duration": 163,
    "start_time": "2021-08-02T09:21:46.196Z"
   },
   {
    "duration": 73,
    "start_time": "2021-08-02T09:21:46.362Z"
   },
   {
    "duration": 5,
    "start_time": "2021-08-02T09:21:46.466Z"
   },
   {
    "duration": 439,
    "start_time": "2021-08-02T09:21:46.473Z"
   },
   {
    "duration": 11,
    "start_time": "2021-08-02T09:21:46.915Z"
   },
   {
    "duration": 39,
    "start_time": "2021-08-02T09:21:46.928Z"
   },
   {
    "duration": 47,
    "start_time": "2021-08-02T09:21:46.969Z"
   },
   {
    "duration": 68,
    "start_time": "2021-08-02T09:21:47.019Z"
   },
   {
    "duration": 47,
    "start_time": "2021-08-02T09:21:47.089Z"
   },
   {
    "duration": 114,
    "start_time": "2021-08-02T09:21:47.166Z"
   },
   {
    "duration": 37,
    "start_time": "2021-08-02T09:21:47.283Z"
   },
   {
    "duration": 6449,
    "start_time": "2021-08-02T09:29:49.790Z"
   },
   {
    "duration": 4,
    "start_time": "2021-08-02T09:31:00.493Z"
   },
   {
    "duration": 10,
    "start_time": "2021-08-02T09:31:59.527Z"
   },
   {
    "duration": 10,
    "start_time": "2021-08-02T09:32:27.337Z"
   },
   {
    "duration": 10,
    "start_time": "2021-08-02T09:33:15.238Z"
   },
   {
    "duration": 61,
    "start_time": "2021-08-02T09:37:14.755Z"
   },
   {
    "duration": 35,
    "start_time": "2021-08-02T09:39:11.510Z"
   },
   {
    "duration": 36,
    "start_time": "2021-08-02T09:39:18.500Z"
   },
   {
    "duration": 87,
    "start_time": "2021-08-02T09:45:16.593Z"
   },
   {
    "duration": 53,
    "start_time": "2021-08-02T09:45:28.588Z"
   },
   {
    "duration": 397,
    "start_time": "2021-08-02T09:46:15.143Z"
   },
   {
    "duration": 42,
    "start_time": "2021-08-02T09:46:38.034Z"
   },
   {
    "duration": 40,
    "start_time": "2021-08-02T09:47:00.676Z"
   },
   {
    "duration": 54,
    "start_time": "2021-08-02T09:47:10.883Z"
   },
   {
    "duration": 80,
    "start_time": "2021-08-02T09:48:48.072Z"
   },
   {
    "duration": 95,
    "start_time": "2021-08-02T09:49:51.153Z"
   },
   {
    "duration": 50,
    "start_time": "2021-08-02T09:50:14.889Z"
   },
   {
    "duration": 80,
    "start_time": "2021-08-02T09:50:20.902Z"
   },
   {
    "duration": 93,
    "start_time": "2021-08-02T09:50:49.985Z"
   },
   {
    "duration": 1208,
    "start_time": "2021-08-02T09:51:29.993Z"
   },
   {
    "duration": 546,
    "start_time": "2021-08-02T09:52:10.635Z"
   },
   {
    "duration": 1413,
    "start_time": "2021-08-02T11:16:55.469Z"
   },
   {
    "duration": 365,
    "start_time": "2021-08-02T11:16:56.884Z"
   },
   {
    "duration": 43,
    "start_time": "2021-08-02T11:16:57.252Z"
   },
   {
    "duration": 2,
    "start_time": "2021-08-02T11:16:57.297Z"
   },
   {
    "duration": 233,
    "start_time": "2021-08-02T11:16:57.301Z"
   },
   {
    "duration": 8,
    "start_time": "2021-08-02T11:16:57.535Z"
   },
   {
    "duration": 12,
    "start_time": "2021-08-02T11:16:57.544Z"
   },
   {
    "duration": 46,
    "start_time": "2021-08-02T11:16:57.559Z"
   },
   {
    "duration": 27,
    "start_time": "2021-08-02T11:16:57.607Z"
   },
   {
    "duration": 27,
    "start_time": "2021-08-02T11:16:57.636Z"
   },
   {
    "duration": 78,
    "start_time": "2021-08-02T11:16:57.664Z"
   },
   {
    "duration": 18,
    "start_time": "2021-08-02T11:16:57.743Z"
   },
   {
    "duration": 3,
    "start_time": "2021-08-02T11:16:57.762Z"
   },
   {
    "duration": 25,
    "start_time": "2021-08-02T11:16:57.766Z"
   },
   {
    "duration": 7,
    "start_time": "2021-08-02T11:16:57.793Z"
   },
   {
    "duration": 7,
    "start_time": "2021-08-02T11:16:57.801Z"
   },
   {
    "duration": 1,
    "start_time": "2021-08-02T11:16:57.810Z"
   },
   {
    "duration": 671,
    "start_time": "2021-08-02T11:16:57.813Z"
   },
   {
    "duration": 26,
    "start_time": "2021-08-02T11:17:46.166Z"
   },
   {
    "duration": 273,
    "start_time": "2021-08-02T11:19:11.516Z"
   },
   {
    "duration": 25,
    "start_time": "2021-08-02T11:24:06.257Z"
   },
   {
    "duration": 22,
    "start_time": "2021-08-02T11:24:22.513Z"
   },
   {
    "duration": 197,
    "start_time": "2021-08-02T11:24:33.218Z"
   },
   {
    "duration": 187,
    "start_time": "2021-08-02T11:24:40.136Z"
   },
   {
    "duration": 300,
    "start_time": "2021-08-02T11:26:25.955Z"
   },
   {
    "duration": 322,
    "start_time": "2021-08-02T11:27:30.317Z"
   },
   {
    "duration": 398,
    "start_time": "2021-08-02T11:27:51.326Z"
   },
   {
    "duration": 310,
    "start_time": "2021-08-02T11:28:05.735Z"
   },
   {
    "duration": 34,
    "start_time": "2021-08-02T11:31:25.682Z"
   },
   {
    "duration": 6,
    "start_time": "2021-08-02T11:31:39.578Z"
   },
   {
    "duration": 21,
    "start_time": "2021-08-02T11:32:37.494Z"
   },
   {
    "duration": 301,
    "start_time": "2021-08-02T11:33:09.442Z"
   },
   {
    "duration": 316,
    "start_time": "2021-08-02T11:34:34.993Z"
   },
   {
    "duration": 43,
    "start_time": "2021-08-02T11:47:04.476Z"
   },
   {
    "duration": 44,
    "start_time": "2021-08-02T11:52:53.294Z"
   },
   {
    "duration": 19,
    "start_time": "2021-08-02T11:53:14.714Z"
   },
   {
    "duration": 21,
    "start_time": "2021-08-02T11:53:21.490Z"
   },
   {
    "duration": 1419,
    "start_time": "2021-08-02T11:57:36.664Z"
   },
   {
    "duration": 118,
    "start_time": "2021-08-02T11:57:38.085Z"
   },
   {
    "duration": 46,
    "start_time": "2021-08-02T11:57:38.205Z"
   },
   {
    "duration": 3,
    "start_time": "2021-08-02T11:57:38.253Z"
   },
   {
    "duration": 230,
    "start_time": "2021-08-02T11:57:38.258Z"
   },
   {
    "duration": 8,
    "start_time": "2021-08-02T11:57:38.491Z"
   },
   {
    "duration": 16,
    "start_time": "2021-08-02T11:57:38.500Z"
   },
   {
    "duration": 32,
    "start_time": "2021-08-02T11:57:38.518Z"
   },
   {
    "duration": 52,
    "start_time": "2021-08-02T11:57:38.552Z"
   },
   {
    "duration": 32,
    "start_time": "2021-08-02T11:57:38.605Z"
   },
   {
    "duration": 85,
    "start_time": "2021-08-02T11:57:38.639Z"
   },
   {
    "duration": 22,
    "start_time": "2021-08-02T11:57:38.726Z"
   },
   {
    "duration": 3,
    "start_time": "2021-08-02T11:57:38.749Z"
   },
   {
    "duration": 7,
    "start_time": "2021-08-02T11:57:38.753Z"
   },
   {
    "duration": 30,
    "start_time": "2021-08-02T11:57:38.762Z"
   },
   {
    "duration": 5,
    "start_time": "2021-08-02T11:57:38.793Z"
   },
   {
    "duration": 25,
    "start_time": "2021-08-02T11:57:38.799Z"
   },
   {
    "duration": 708,
    "start_time": "2021-08-02T11:57:38.825Z"
   },
   {
    "duration": 338,
    "start_time": "2021-08-02T11:57:39.535Z"
   },
   {
    "duration": 414,
    "start_time": "2021-08-02T11:57:39.874Z"
   },
   {
    "duration": 307,
    "start_time": "2021-08-02T11:57:40.291Z"
   },
   {
    "duration": 1370,
    "start_time": "2021-08-02T11:59:59.240Z"
   },
   {
    "duration": 129,
    "start_time": "2021-08-02T12:00:00.612Z"
   },
   {
    "duration": 54,
    "start_time": "2021-08-02T12:00:00.744Z"
   },
   {
    "duration": 2,
    "start_time": "2021-08-02T12:00:00.800Z"
   },
   {
    "duration": 258,
    "start_time": "2021-08-02T12:00:00.805Z"
   },
   {
    "duration": 10,
    "start_time": "2021-08-02T12:00:01.065Z"
   },
   {
    "duration": 25,
    "start_time": "2021-08-02T12:00:01.077Z"
   },
   {
    "duration": 34,
    "start_time": "2021-08-02T12:00:01.105Z"
   },
   {
    "duration": 29,
    "start_time": "2021-08-02T12:00:01.142Z"
   },
   {
    "duration": 46,
    "start_time": "2021-08-02T12:00:01.173Z"
   },
   {
    "duration": 86,
    "start_time": "2021-08-02T12:00:01.221Z"
   },
   {
    "duration": 22,
    "start_time": "2021-08-02T12:00:01.309Z"
   },
   {
    "duration": 4,
    "start_time": "2021-08-02T12:00:01.333Z"
   },
   {
    "duration": 20,
    "start_time": "2021-08-02T12:00:01.339Z"
   },
   {
    "duration": 15,
    "start_time": "2021-08-02T12:00:01.361Z"
   },
   {
    "duration": 23,
    "start_time": "2021-08-02T12:00:01.378Z"
   },
   {
    "duration": 57,
    "start_time": "2021-08-02T12:00:01.403Z"
   },
   {
    "duration": 706,
    "start_time": "2021-08-02T12:00:01.462Z"
   },
   {
    "duration": 352,
    "start_time": "2021-08-02T12:00:02.170Z"
   },
   {
    "duration": 347,
    "start_time": "2021-08-02T12:00:02.524Z"
   },
   {
    "duration": 330,
    "start_time": "2021-08-02T12:00:02.872Z"
   },
   {
    "duration": 62,
    "start_time": "2021-08-02T12:00:26.755Z"
   },
   {
    "duration": 724,
    "start_time": "2021-08-02T12:00:37.793Z"
   },
   {
    "duration": 604,
    "start_time": "2021-08-02T12:01:15.022Z"
   },
   {
    "duration": 600,
    "start_time": "2021-08-02T12:02:56.534Z"
   },
   {
    "duration": 391,
    "start_time": "2021-08-02T12:03:00.898Z"
   },
   {
    "duration": 40,
    "start_time": "2021-08-02T12:03:27.552Z"
   },
   {
    "duration": 881,
    "start_time": "2021-08-02T12:03:32.117Z"
   },
   {
    "duration": 41,
    "start_time": "2021-08-02T12:04:06.619Z"
   },
   {
    "duration": 421,
    "start_time": "2021-08-02T12:04:19.692Z"
   },
   {
    "duration": 1367,
    "start_time": "2021-08-02T12:20:30.356Z"
   },
   {
    "duration": 119,
    "start_time": "2021-08-02T12:20:31.725Z"
   },
   {
    "duration": 45,
    "start_time": "2021-08-02T12:20:31.845Z"
   },
   {
    "duration": 11,
    "start_time": "2021-08-02T12:20:31.891Z"
   },
   {
    "duration": 237,
    "start_time": "2021-08-02T12:20:31.904Z"
   },
   {
    "duration": 8,
    "start_time": "2021-08-02T12:20:32.142Z"
   },
   {
    "duration": 13,
    "start_time": "2021-08-02T12:20:32.152Z"
   },
   {
    "duration": 47,
    "start_time": "2021-08-02T12:20:32.167Z"
   },
   {
    "duration": 28,
    "start_time": "2021-08-02T12:20:32.217Z"
   },
   {
    "duration": 55,
    "start_time": "2021-08-02T12:20:32.247Z"
   },
   {
    "duration": 67,
    "start_time": "2021-08-02T12:20:32.305Z"
   },
   {
    "duration": 25,
    "start_time": "2021-08-02T12:20:32.373Z"
   },
   {
    "duration": 3,
    "start_time": "2021-08-02T12:20:32.400Z"
   },
   {
    "duration": 13,
    "start_time": "2021-08-02T12:20:32.404Z"
   },
   {
    "duration": 10,
    "start_time": "2021-08-02T12:20:32.418Z"
   },
   {
    "duration": 7,
    "start_time": "2021-08-02T12:20:32.429Z"
   },
   {
    "duration": 23,
    "start_time": "2021-08-02T12:20:32.437Z"
   },
   {
    "duration": 745,
    "start_time": "2021-08-02T12:20:32.461Z"
   },
   {
    "duration": 331,
    "start_time": "2021-08-02T12:20:33.208Z"
   },
   {
    "duration": 323,
    "start_time": "2021-08-02T12:20:33.541Z"
   },
   {
    "duration": 432,
    "start_time": "2021-08-02T12:20:33.865Z"
   },
   {
    "duration": 442,
    "start_time": "2021-08-02T12:20:34.299Z"
   },
   {
    "duration": 56,
    "start_time": "2021-08-02T12:20:34.744Z"
   },
   {
    "duration": 17,
    "start_time": "2021-08-02T12:21:06.040Z"
   },
   {
    "duration": 37,
    "start_time": "2021-08-02T12:21:19.346Z"
   },
   {
    "duration": 341,
    "start_time": "2021-08-02T12:21:26.321Z"
   },
   {
    "duration": 18,
    "start_time": "2021-08-02T12:21:32.943Z"
   },
   {
    "duration": 16,
    "start_time": "2021-08-02T12:22:20.868Z"
   },
   {
    "duration": 274,
    "start_time": "2021-08-02T12:22:26.516Z"
   },
   {
    "duration": 226,
    "start_time": "2021-08-02T12:22:56.962Z"
   },
   {
    "duration": 235,
    "start_time": "2021-08-02T12:23:41.113Z"
   },
   {
    "duration": 43,
    "start_time": "2021-08-02T12:23:53.979Z"
   },
   {
    "duration": 28,
    "start_time": "2021-08-02T12:24:30.347Z"
   },
   {
    "duration": 39,
    "start_time": "2021-08-02T12:24:33.609Z"
   },
   {
    "duration": 40,
    "start_time": "2021-08-02T12:24:52.749Z"
   },
   {
    "duration": 44,
    "start_time": "2021-08-02T12:25:02.856Z"
   },
   {
    "duration": 1323,
    "start_time": "2021-08-02T12:25:11.562Z"
   },
   {
    "duration": 114,
    "start_time": "2021-08-02T12:25:12.887Z"
   },
   {
    "duration": 44,
    "start_time": "2021-08-02T12:25:13.004Z"
   },
   {
    "duration": 2,
    "start_time": "2021-08-02T12:25:13.050Z"
   },
   {
    "duration": 233,
    "start_time": "2021-08-02T12:25:13.053Z"
   },
   {
    "duration": 9,
    "start_time": "2021-08-02T12:25:13.288Z"
   },
   {
    "duration": 12,
    "start_time": "2021-08-02T12:25:13.298Z"
   },
   {
    "duration": 28,
    "start_time": "2021-08-02T12:25:13.311Z"
   },
   {
    "duration": 50,
    "start_time": "2021-08-02T12:25:13.342Z"
   },
   {
    "duration": 30,
    "start_time": "2021-08-02T12:25:13.394Z"
   },
   {
    "duration": 78,
    "start_time": "2021-08-02T12:25:13.425Z"
   },
   {
    "duration": 18,
    "start_time": "2021-08-02T12:25:13.504Z"
   },
   {
    "duration": 3,
    "start_time": "2021-08-02T12:25:13.523Z"
   },
   {
    "duration": 7,
    "start_time": "2021-08-02T12:25:13.527Z"
   },
   {
    "duration": 4,
    "start_time": "2021-08-02T12:25:13.536Z"
   },
   {
    "duration": 7,
    "start_time": "2021-08-02T12:25:13.542Z"
   },
   {
    "duration": 52,
    "start_time": "2021-08-02T12:25:13.550Z"
   },
   {
    "duration": 661,
    "start_time": "2021-08-02T12:25:13.603Z"
   },
   {
    "duration": 316,
    "start_time": "2021-08-02T12:25:14.265Z"
   },
   {
    "duration": 305,
    "start_time": "2021-08-02T12:25:14.582Z"
   },
   {
    "duration": 402,
    "start_time": "2021-08-02T12:25:14.891Z"
   },
   {
    "duration": 417,
    "start_time": "2021-08-02T12:25:15.295Z"
   },
   {
    "duration": 34,
    "start_time": "2021-08-02T12:25:15.714Z"
   },
   {
    "duration": 2,
    "start_time": "2021-08-02T12:27:20.568Z"
   },
   {
    "duration": 35,
    "start_time": "2021-08-02T12:27:41.193Z"
   },
   {
    "duration": 6,
    "start_time": "2021-08-02T12:28:15.454Z"
   },
   {
    "duration": 5,
    "start_time": "2021-08-02T12:28:22.304Z"
   },
   {
    "duration": 8,
    "start_time": "2021-08-02T12:29:10.870Z"
   },
   {
    "duration": 4,
    "start_time": "2021-08-02T12:29:12.570Z"
   },
   {
    "duration": 9,
    "start_time": "2021-08-02T12:29:53.462Z"
   },
   {
    "duration": 13,
    "start_time": "2021-08-02T12:30:33.877Z"
   },
   {
    "duration": 16,
    "start_time": "2021-08-02T12:30:39.593Z"
   },
   {
    "duration": 70,
    "start_time": "2021-08-02T12:34:56.565Z"
   },
   {
    "duration": 279,
    "start_time": "2021-08-02T12:35:38.788Z"
   },
   {
    "duration": 47,
    "start_time": "2021-08-02T12:56:35.566Z"
   },
   {
    "duration": 4,
    "start_time": "2021-08-02T12:58:17.036Z"
   },
   {
    "duration": 4,
    "start_time": "2021-08-02T12:58:21.245Z"
   },
   {
    "duration": 36,
    "start_time": "2021-08-02T13:00:24.764Z"
   },
   {
    "duration": 8,
    "start_time": "2021-08-02T13:00:34.175Z"
   },
   {
    "duration": 4,
    "start_time": "2021-08-02T13:00:41.552Z"
   },
   {
    "duration": 9,
    "start_time": "2021-08-02T13:01:11.361Z"
   },
   {
    "duration": 7,
    "start_time": "2021-08-02T13:01:13.621Z"
   },
   {
    "duration": 8,
    "start_time": "2021-08-02T13:01:39.457Z"
   },
   {
    "duration": 6,
    "start_time": "2021-08-02T13:01:41.079Z"
   },
   {
    "duration": 5,
    "start_time": "2021-08-02T13:01:46.009Z"
   },
   {
    "duration": 9,
    "start_time": "2021-08-02T13:01:51.066Z"
   },
   {
    "duration": 17,
    "start_time": "2021-08-02T13:02:08.767Z"
   },
   {
    "duration": 5,
    "start_time": "2021-08-02T13:02:12.579Z"
   },
   {
    "duration": 343,
    "start_time": "2021-08-02T13:03:04.272Z"
   },
   {
    "duration": 231,
    "start_time": "2021-08-02T13:03:10.489Z"
   },
   {
    "duration": 5,
    "start_time": "2021-08-02T13:03:15.763Z"
   },
   {
    "duration": 38,
    "start_time": "2021-08-02T13:08:23.584Z"
   },
   {
    "duration": 8,
    "start_time": "2021-08-02T13:09:07.770Z"
   },
   {
    "duration": 11,
    "start_time": "2021-08-02T13:09:19.161Z"
   },
   {
    "duration": 55,
    "start_time": "2021-08-02T13:09:23.087Z"
   },
   {
    "duration": 235,
    "start_time": "2021-08-02T13:10:20.241Z"
   },
   {
    "duration": 5,
    "start_time": "2021-08-02T13:12:08.735Z"
   },
   {
    "duration": 7,
    "start_time": "2021-08-02T13:12:14.104Z"
   },
   {
    "duration": 236,
    "start_time": "2021-08-02T13:14:56.573Z"
   },
   {
    "duration": 7,
    "start_time": "2021-08-02T13:15:00.482Z"
   },
   {
    "duration": 8,
    "start_time": "2021-08-02T13:15:03.948Z"
   },
   {
    "duration": 6,
    "start_time": "2021-08-02T13:15:32.775Z"
   },
   {
    "duration": 7,
    "start_time": "2021-08-02T13:15:52.490Z"
   },
   {
    "duration": 6,
    "start_time": "2021-08-02T13:15:56.843Z"
   },
   {
    "duration": 226,
    "start_time": "2021-08-02T13:17:11.681Z"
   },
   {
    "duration": 4,
    "start_time": "2021-08-02T13:17:48.950Z"
   },
   {
    "duration": 4,
    "start_time": "2021-08-02T13:17:57.069Z"
   },
   {
    "duration": 5,
    "start_time": "2021-08-02T13:18:42.722Z"
   },
   {
    "duration": 7,
    "start_time": "2021-08-02T13:19:08.788Z"
   },
   {
    "duration": 7,
    "start_time": "2021-08-02T13:19:18.781Z"
   },
   {
    "duration": 7,
    "start_time": "2021-08-02T13:19:20.765Z"
   },
   {
    "duration": 39,
    "start_time": "2021-08-02T13:19:27.770Z"
   },
   {
    "duration": 7,
    "start_time": "2021-08-02T13:19:40.129Z"
   },
   {
    "duration": 7,
    "start_time": "2021-08-02T13:19:41.911Z"
   },
   {
    "duration": 55,
    "start_time": "2021-08-02T13:19:43.337Z"
   },
   {
    "duration": 8,
    "start_time": "2021-08-02T13:19:52.930Z"
   },
   {
    "duration": 10,
    "start_time": "2021-08-02T13:19:56.940Z"
   },
   {
    "duration": 5,
    "start_time": "2021-08-02T13:19:58.368Z"
   },
   {
    "duration": 1771,
    "start_time": "2021-08-02T13:39:28.977Z"
   },
   {
    "duration": 162,
    "start_time": "2021-08-02T13:39:30.750Z"
   },
   {
    "duration": 72,
    "start_time": "2021-08-02T13:39:30.914Z"
   },
   {
    "duration": 3,
    "start_time": "2021-08-02T13:39:30.992Z"
   },
   {
    "duration": 239,
    "start_time": "2021-08-02T13:39:30.997Z"
   },
   {
    "duration": 9,
    "start_time": "2021-08-02T13:39:31.238Z"
   },
   {
    "duration": 17,
    "start_time": "2021-08-02T13:39:31.248Z"
   },
   {
    "duration": 44,
    "start_time": "2021-08-02T13:39:31.266Z"
   },
   {
    "duration": 31,
    "start_time": "2021-08-02T13:39:31.312Z"
   },
   {
    "duration": 60,
    "start_time": "2021-08-02T13:39:31.345Z"
   },
   {
    "duration": 67,
    "start_time": "2021-08-02T13:39:31.407Z"
   },
   {
    "duration": 18,
    "start_time": "2021-08-02T13:39:31.492Z"
   },
   {
    "duration": 2,
    "start_time": "2021-08-02T13:39:31.511Z"
   },
   {
    "duration": 11,
    "start_time": "2021-08-02T13:39:31.515Z"
   },
   {
    "duration": 8,
    "start_time": "2021-08-02T13:39:31.527Z"
   },
   {
    "duration": 14,
    "start_time": "2021-08-02T13:39:31.536Z"
   },
   {
    "duration": 59,
    "start_time": "2021-08-02T13:39:31.551Z"
   },
   {
    "duration": 694,
    "start_time": "2021-08-02T13:39:31.612Z"
   },
   {
    "duration": 334,
    "start_time": "2021-08-02T13:39:32.308Z"
   },
   {
    "duration": 321,
    "start_time": "2021-08-02T13:39:32.644Z"
   },
   {
    "duration": 428,
    "start_time": "2021-08-02T13:39:32.966Z"
   },
   {
    "duration": 435,
    "start_time": "2021-08-02T13:39:33.396Z"
   },
   {
    "duration": 390,
    "start_time": "2021-08-02T13:39:33.832Z"
   },
   {
    "duration": -1979,
    "start_time": "2021-08-02T13:39:36.203Z"
   },
   {
    "duration": -1981,
    "start_time": "2021-08-02T13:39:36.206Z"
   },
   {
    "duration": -1984,
    "start_time": "2021-08-02T13:39:36.210Z"
   },
   {
    "duration": -2001,
    "start_time": "2021-08-02T13:39:36.228Z"
   },
   {
    "duration": -2006,
    "start_time": "2021-08-02T13:39:36.233Z"
   },
   {
    "duration": -2007,
    "start_time": "2021-08-02T13:39:36.235Z"
   },
   {
    "duration": -2008,
    "start_time": "2021-08-02T13:39:36.237Z"
   },
   {
    "duration": -2009,
    "start_time": "2021-08-02T13:39:36.239Z"
   },
   {
    "duration": 11,
    "start_time": "2021-08-02T13:44:40.001Z"
   },
   {
    "duration": 21,
    "start_time": "2021-08-02T13:44:42.354Z"
   },
   {
    "duration": 1399,
    "start_time": "2021-08-02T13:44:48.700Z"
   },
   {
    "duration": 117,
    "start_time": "2021-08-02T13:44:50.100Z"
   },
   {
    "duration": 42,
    "start_time": "2021-08-02T13:44:50.221Z"
   },
   {
    "duration": 3,
    "start_time": "2021-08-02T13:44:50.264Z"
   },
   {
    "duration": 229,
    "start_time": "2021-08-02T13:44:50.268Z"
   },
   {
    "duration": 8,
    "start_time": "2021-08-02T13:44:50.499Z"
   },
   {
    "duration": 14,
    "start_time": "2021-08-02T13:44:50.509Z"
   },
   {
    "duration": 30,
    "start_time": "2021-08-02T13:44:50.525Z"
   },
   {
    "duration": 59,
    "start_time": "2021-08-02T13:44:50.556Z"
   },
   {
    "duration": 28,
    "start_time": "2021-08-02T13:44:50.617Z"
   },
   {
    "duration": 76,
    "start_time": "2021-08-02T13:44:50.647Z"
   },
   {
    "duration": 18,
    "start_time": "2021-08-02T13:44:50.724Z"
   },
   {
    "duration": 2,
    "start_time": "2021-08-02T13:44:50.743Z"
   },
   {
    "duration": 8,
    "start_time": "2021-08-02T13:44:50.746Z"
   },
   {
    "duration": 8,
    "start_time": "2021-08-02T13:44:50.755Z"
   },
   {
    "duration": 35,
    "start_time": "2021-08-02T13:44:50.764Z"
   },
   {
    "duration": 27,
    "start_time": "2021-08-02T13:44:50.800Z"
   },
   {
    "duration": 679,
    "start_time": "2021-08-02T13:44:50.829Z"
   },
   {
    "duration": 326,
    "start_time": "2021-08-02T13:44:51.510Z"
   },
   {
    "duration": 308,
    "start_time": "2021-08-02T13:44:51.838Z"
   },
   {
    "duration": 421,
    "start_time": "2021-08-02T13:44:52.148Z"
   },
   {
    "duration": 420,
    "start_time": "2021-08-02T13:44:52.571Z"
   },
   {
    "duration": 9,
    "start_time": "2021-08-02T13:44:52.993Z"
   },
   {
    "duration": 14,
    "start_time": "2021-08-02T13:44:53.004Z"
   },
   {
    "duration": 98,
    "start_time": "2021-08-02T13:44:53.020Z"
   },
   {
    "duration": 308,
    "start_time": "2021-08-02T13:44:53.122Z"
   },
   {
    "duration": 16,
    "start_time": "2021-08-02T13:44:53.432Z"
   },
   {
    "duration": 4,
    "start_time": "2021-08-02T13:44:53.449Z"
   },
   {
    "duration": 10,
    "start_time": "2021-08-02T13:44:53.455Z"
   },
   {
    "duration": 25,
    "start_time": "2021-08-02T13:44:53.467Z"
   },
   {
    "duration": 7,
    "start_time": "2021-08-02T13:44:53.493Z"
   },
   {
    "duration": 1369,
    "start_time": "2021-08-02T13:51:44.501Z"
   },
   {
    "duration": 117,
    "start_time": "2021-08-02T13:51:45.872Z"
   },
   {
    "duration": 42,
    "start_time": "2021-08-02T13:51:45.991Z"
   },
   {
    "duration": 2,
    "start_time": "2021-08-02T13:51:46.035Z"
   },
   {
    "duration": 252,
    "start_time": "2021-08-02T13:51:46.038Z"
   },
   {
    "duration": 8,
    "start_time": "2021-08-02T13:51:46.292Z"
   },
   {
    "duration": 11,
    "start_time": "2021-08-02T13:51:46.302Z"
   },
   {
    "duration": 33,
    "start_time": "2021-08-02T13:51:46.315Z"
   },
   {
    "duration": 55,
    "start_time": "2021-08-02T13:51:46.350Z"
   },
   {
    "duration": 29,
    "start_time": "2021-08-02T13:51:46.407Z"
   },
   {
    "duration": 81,
    "start_time": "2021-08-02T13:51:46.438Z"
   },
   {
    "duration": 19,
    "start_time": "2021-08-02T13:51:46.520Z"
   },
   {
    "duration": 2,
    "start_time": "2021-08-02T13:51:46.540Z"
   },
   {
    "duration": 7,
    "start_time": "2021-08-02T13:51:46.544Z"
   },
   {
    "duration": 38,
    "start_time": "2021-08-02T13:51:46.553Z"
   },
   {
    "duration": 6,
    "start_time": "2021-08-02T13:51:46.593Z"
   },
   {
    "duration": 27,
    "start_time": "2021-08-02T13:51:46.600Z"
   },
   {
    "duration": 689,
    "start_time": "2021-08-02T13:51:46.628Z"
   },
   {
    "duration": 371,
    "start_time": "2021-08-02T13:51:47.319Z"
   },
   {
    "duration": 296,
    "start_time": "2021-08-02T13:51:47.691Z"
   },
   {
    "duration": 414,
    "start_time": "2021-08-02T13:51:47.988Z"
   },
   {
    "duration": 625,
    "start_time": "2021-08-02T13:51:48.403Z"
   },
   {
    "duration": 9,
    "start_time": "2021-08-02T13:51:49.030Z"
   },
   {
    "duration": 17,
    "start_time": "2021-08-02T13:51:49.041Z"
   },
   {
    "duration": 96,
    "start_time": "2021-08-02T13:51:49.060Z"
   },
   {
    "duration": 298,
    "start_time": "2021-08-02T13:51:49.158Z"
   },
   {
    "duration": 16,
    "start_time": "2021-08-02T13:51:49.458Z"
   },
   {
    "duration": 17,
    "start_time": "2021-08-02T13:51:49.476Z"
   },
   {
    "duration": 9,
    "start_time": "2021-08-02T13:51:49.494Z"
   },
   {
    "duration": 9,
    "start_time": "2021-08-02T13:51:49.504Z"
   },
   {
    "duration": 10,
    "start_time": "2021-08-02T13:51:49.514Z"
   },
   {
    "duration": 2055,
    "start_time": "2021-08-03T00:57:59.185Z"
   },
   {
    "duration": 745,
    "start_time": "2021-08-03T00:58:02.306Z"
   },
   {
    "duration": 69,
    "start_time": "2021-08-03T00:58:13.373Z"
   },
   {
    "duration": 4,
    "start_time": "2021-08-03T00:58:26.255Z"
   },
   {
    "duration": 400,
    "start_time": "2021-08-03T00:59:56.014Z"
   },
   {
    "duration": 17,
    "start_time": "2021-08-03T01:00:01.751Z"
   },
   {
    "duration": 17,
    "start_time": "2021-08-03T01:00:12.679Z"
   },
   {
    "duration": 67,
    "start_time": "2021-08-03T01:00:26.939Z"
   },
   {
    "duration": 45,
    "start_time": "2021-08-03T01:00:28.521Z"
   },
   {
    "duration": 70,
    "start_time": "2021-08-03T01:00:33.787Z"
   },
   {
    "duration": 108,
    "start_time": "2021-08-03T01:00:37.404Z"
   },
   {
    "duration": 34,
    "start_time": "2021-08-03T01:01:00.717Z"
   },
   {
    "duration": 4,
    "start_time": "2021-08-03T01:01:17.530Z"
   },
   {
    "duration": 8,
    "start_time": "2021-08-03T01:01:19.245Z"
   },
   {
    "duration": 13,
    "start_time": "2021-08-03T01:01:21.608Z"
   },
   {
    "duration": 10,
    "start_time": "2021-08-03T01:01:24.344Z"
   },
   {
    "duration": 37,
    "start_time": "2021-08-03T01:02:40.594Z"
   },
   {
    "duration": 1398,
    "start_time": "2021-08-03T01:02:57.836Z"
   },
   {
    "duration": 552,
    "start_time": "2021-08-03T01:03:31.379Z"
   },
   {
    "duration": 535,
    "start_time": "2021-08-03T01:04:04.313Z"
   },
   {
    "duration": 1023,
    "start_time": "2021-08-03T01:04:13.923Z"
   },
   {
    "duration": 752,
    "start_time": "2021-08-03T01:04:22.997Z"
   },
   {
    "duration": 14,
    "start_time": "2021-08-03T01:05:15.067Z"
   },
   {
    "duration": 19,
    "start_time": "2021-08-03T01:05:28.703Z"
   },
   {
    "duration": 31,
    "start_time": "2021-08-03T01:05:38.105Z"
   },
   {
    "duration": 190,
    "start_time": "2021-08-03T01:05:47.646Z"
   },
   {
    "duration": 749,
    "start_time": "2021-08-03T01:05:54.601Z"
   },
   {
    "duration": 35,
    "start_time": "2021-08-03T01:07:18.604Z"
   },
   {
    "duration": 7,
    "start_time": "2021-08-03T01:07:19.782Z"
   },
   {
    "duration": 6,
    "start_time": "2021-08-03T01:07:36.333Z"
   },
   {
    "duration": 6,
    "start_time": "2021-08-03T01:07:43.256Z"
   },
   {
    "duration": 7,
    "start_time": "2021-08-03T01:08:00.739Z"
   },
   {
    "duration": 7,
    "start_time": "2021-08-03T01:08:13.284Z"
   },
   {
    "duration": 977,
    "start_time": "2021-08-03T01:12:03.640Z"
   },
   {
    "duration": 26,
    "start_time": "2021-08-03T01:12:14.607Z"
   },
   {
    "duration": 6,
    "start_time": "2021-08-03T01:13:17.690Z"
   },
   {
    "duration": 23,
    "start_time": "2021-08-03T01:13:32.428Z"
   },
   {
    "duration": 11,
    "start_time": "2021-08-03T01:13:39.085Z"
   },
   {
    "duration": 8,
    "start_time": "2021-08-03T01:14:04.535Z"
   },
   {
    "duration": 7,
    "start_time": "2021-08-03T01:14:09.912Z"
   },
   {
    "duration": 26,
    "start_time": "2021-08-03T01:14:20.407Z"
   },
   {
    "duration": 6,
    "start_time": "2021-08-03T01:14:21.015Z"
   },
   {
    "duration": 7,
    "start_time": "2021-08-03T01:14:31.786Z"
   },
   {
    "duration": 6,
    "start_time": "2021-08-03T01:14:35.147Z"
   },
   {
    "duration": 7,
    "start_time": "2021-08-03T01:15:18.836Z"
   },
   {
    "duration": 7,
    "start_time": "2021-08-03T01:15:22.825Z"
   },
   {
    "duration": 7,
    "start_time": "2021-08-03T01:17:24.060Z"
   },
   {
    "duration": 8,
    "start_time": "2021-08-03T01:17:29.064Z"
   },
   {
    "duration": 1950,
    "start_time": "2021-08-07T16:17:35.143Z"
   },
   {
    "duration": 181,
    "start_time": "2021-08-07T16:17:37.096Z"
   },
   {
    "duration": 70,
    "start_time": "2021-08-07T16:17:37.280Z"
   },
   {
    "duration": 3,
    "start_time": "2021-08-07T16:17:37.353Z"
   },
   {
    "duration": 409,
    "start_time": "2021-08-07T16:17:37.359Z"
   },
   {
    "duration": 11,
    "start_time": "2021-08-07T16:17:37.771Z"
   },
   {
    "duration": 16,
    "start_time": "2021-08-07T16:17:37.785Z"
   },
   {
    "duration": 68,
    "start_time": "2021-08-07T16:17:37.804Z"
   },
   {
    "duration": 45,
    "start_time": "2021-08-07T16:17:37.876Z"
   },
   {
    "duration": 63,
    "start_time": "2021-08-07T16:17:37.924Z"
   },
   {
    "duration": 170,
    "start_time": "2021-08-07T16:17:37.990Z"
   },
   {
    "duration": 40,
    "start_time": "2021-08-07T16:17:38.163Z"
   },
   {
    "duration": 4,
    "start_time": "2021-08-07T16:17:38.206Z"
   },
   {
    "duration": 50,
    "start_time": "2021-08-07T16:17:38.213Z"
   },
   {
    "duration": 9,
    "start_time": "2021-08-07T16:17:38.265Z"
   },
   {
    "duration": 14,
    "start_time": "2021-08-07T16:17:38.276Z"
   },
   {
    "duration": 65,
    "start_time": "2021-08-07T16:17:38.292Z"
   },
   {
    "duration": 1207,
    "start_time": "2021-08-07T16:17:38.359Z"
   },
   {
    "duration": 589,
    "start_time": "2021-08-07T16:17:39.569Z"
   },
   {
    "duration": 559,
    "start_time": "2021-08-07T16:17:40.160Z"
   },
   {
    "duration": 668,
    "start_time": "2021-08-07T16:17:40.722Z"
   },
   {
    "duration": 776,
    "start_time": "2021-08-07T16:17:41.393Z"
   },
   {
    "duration": 16,
    "start_time": "2021-08-07T16:17:42.172Z"
   },
   {
    "duration": 31,
    "start_time": "2021-08-07T16:17:42.191Z"
   },
   {
    "duration": 161,
    "start_time": "2021-08-07T16:17:42.225Z"
   },
   {
    "duration": 532,
    "start_time": "2021-08-07T16:17:42.389Z"
   },
   {
    "duration": 42,
    "start_time": "2021-08-07T16:17:42.927Z"
   },
   {
    "duration": 7,
    "start_time": "2021-08-07T16:17:42.972Z"
   },
   {
    "duration": 15,
    "start_time": "2021-08-07T16:17:42.982Z"
   },
   {
    "duration": 15,
    "start_time": "2021-08-07T16:17:42.999Z"
   },
   {
    "duration": 39,
    "start_time": "2021-08-07T16:17:43.017Z"
   }
  ],
  "kernelspec": {
   "display_name": "Python 3",
   "language": "python",
   "name": "python3"
  },
  "language_info": {
   "codemirror_mode": {
    "name": "ipython",
    "version": 3
   },
   "file_extension": ".py",
   "mimetype": "text/x-python",
   "name": "python",
   "nbconvert_exporter": "python",
   "pygments_lexer": "ipython3",
   "version": "3.7.8"
  },
  "toc": {
   "base_numbering": 1,
   "nav_menu": {},
   "number_sections": true,
   "sideBar": true,
   "skip_h1_title": true,
   "title_cell": "Table of Contents",
   "title_sidebar": "Contents",
   "toc_cell": false,
   "toc_position": {},
   "toc_section_display": true,
   "toc_window_display": false
  }
 },
 "nbformat": 4,
 "nbformat_minor": 2
}
